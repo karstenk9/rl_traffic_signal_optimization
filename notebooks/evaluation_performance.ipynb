{
 "cells": [
  {
   "cell_type": "markdown",
   "metadata": {
    "pycharm": {
     "name": "#%% md\n"
    }
   },
   "source": [
    "## Analysis of RL Evaluation Performance"
   ]
  },
  {
   "cell_type": "code",
   "execution_count": 46,
   "metadata": {
    "pycharm": {
     "name": "#%%\n"
    }
   },
   "outputs": [],
   "source": [
    "# Imports\n",
    "\n",
    "import pandas as pd\n",
    "import matplotlib.pyplot as plt\n",
    "import seaborn as sns\n",
    "import os\n",
    "import numpy as np\n",
    "from scipy import stats\n",
    "from scipy.stats import ks_2samp\n"
   ]
  },
  {
   "cell_type": "code",
   "execution_count": 2,
   "metadata": {
    "pycharm": {
     "name": "#%%\n"
    }
   },
   "outputs": [],
   "source": [
    "pd.set_option('display.max_columns', None)"
   ]
  },
  {
   "cell_type": "markdown",
   "metadata": {
    "pycharm": {
     "name": "#%% md\n"
    }
   },
   "source": [
    "### Actuated / Baseline Results"
   ]
  },
  {
   "cell_type": "code",
   "execution_count": 179,
   "metadata": {
    "pycharm": {
     "name": "#%%\n"
    }
   },
   "outputs": [
    {
     "data": {
      "text/html": [
       "<div>\n",
       "<style scoped>\n",
       "    .dataframe tbody tr th:only-of-type {\n",
       "        vertical-align: middle;\n",
       "    }\n",
       "\n",
       "    .dataframe tbody tr th {\n",
       "        vertical-align: top;\n",
       "    }\n",
       "\n",
       "    .dataframe thead th {\n",
       "        text-align: right;\n",
       "    }\n",
       "</style>\n",
       "<table border=\"1\" class=\"dataframe\">\n",
       "  <thead>\n",
       "    <tr style=\"text-align: right;\">\n",
       "      <th></th>\n",
       "      <th>Step</th>\n",
       "      <th>num_vehicles</th>\n",
       "      <th>vehicle_types</th>\n",
       "      <th>avg_speed</th>\n",
       "      <th>localCO2Emission</th>\n",
       "      <th>localCOEmission</th>\n",
       "      <th>localHCEmission</th>\n",
       "      <th>localPMxEmission</th>\n",
       "      <th>localNOxEmission</th>\n",
       "      <th>local_fuel_consumption</th>\n",
       "      <th>localNoiseEmission</th>\n",
       "      <th>localWaitingTime</th>\n",
       "      <th>localStoppedVehicles</th>\n",
       "      <th>totalCO2Emission</th>\n",
       "      <th>totalCOEmission</th>\n",
       "      <th>totalHCEmission</th>\n",
       "      <th>totalPMxEmission</th>\n",
       "      <th>totalNOxEmission</th>\n",
       "      <th>totalFuelConsumption</th>\n",
       "      <th>totalNoiseEmission</th>\n",
       "      <th>totalWaitingTime</th>\n",
       "      <th>totalStoppedVehicles</th>\n",
       "      <th>tls159_phase</th>\n",
       "      <th>tls159_phase_duration</th>\n",
       "      <th>tls159_state</th>\n",
       "      <th>tls160_phase</th>\n",
       "      <th>tls160_phase_duration</th>\n",
       "      <th>tls160_state</th>\n",
       "      <th>tls161_phase</th>\n",
       "      <th>tls161_phase_duration</th>\n",
       "      <th>tls161_state</th>\n",
       "    </tr>\n",
       "  </thead>\n",
       "  <tbody>\n",
       "    <tr>\n",
       "      <th>0</th>\n",
       "      <td>25200</td>\n",
       "      <td>0</td>\n",
       "      <td>[]</td>\n",
       "      <td>0.000000</td>\n",
       "      <td>0.000000</td>\n",
       "      <td>0.000000</td>\n",
       "      <td>0.000000</td>\n",
       "      <td>0.000000</td>\n",
       "      <td>0.000000</td>\n",
       "      <td>0.000000</td>\n",
       "      <td>0.000000</td>\n",
       "      <td>0.0</td>\n",
       "      <td>0</td>\n",
       "      <td>1.123389e+04</td>\n",
       "      <td>359.172222</td>\n",
       "      <td>1.453889</td>\n",
       "      <td>2.442333</td>\n",
       "      <td>86.401389</td>\n",
       "      <td>3.550833e+03</td>\n",
       "      <td>178.991223</td>\n",
       "      <td>0.0</td>\n",
       "      <td>4</td>\n",
       "      <td>0</td>\n",
       "      <td>19.0</td>\n",
       "      <td>GGGgrrrrrrgGgGGrrrGG</td>\n",
       "      <td>0</td>\n",
       "      <td>19.0</td>\n",
       "      <td>rgGgGrrrrrrrrrrrGGrGGrG</td>\n",
       "      <td>11</td>\n",
       "      <td>48.0</td>\n",
       "      <td>ggggggggggrrrrrrrrrrgrg</td>\n",
       "    </tr>\n",
       "    <tr>\n",
       "      <th>1</th>\n",
       "      <td>25201</td>\n",
       "      <td>0</td>\n",
       "      <td>[]</td>\n",
       "      <td>0.000000</td>\n",
       "      <td>0.000000</td>\n",
       "      <td>0.000000</td>\n",
       "      <td>0.000000</td>\n",
       "      <td>0.000000</td>\n",
       "      <td>0.000000</td>\n",
       "      <td>0.000000</td>\n",
       "      <td>0.000000</td>\n",
       "      <td>0.0</td>\n",
       "      <td>0</td>\n",
       "      <td>2.186324e+04</td>\n",
       "      <td>666.801335</td>\n",
       "      <td>3.018414</td>\n",
       "      <td>2.957748</td>\n",
       "      <td>97.425541</td>\n",
       "      <td>6.936337e+03</td>\n",
       "      <td>271.159876</td>\n",
       "      <td>0.0</td>\n",
       "      <td>1</td>\n",
       "      <td>0</td>\n",
       "      <td>19.0</td>\n",
       "      <td>GGGgrrrrrrgGgGGrrrGG</td>\n",
       "      <td>0</td>\n",
       "      <td>19.0</td>\n",
       "      <td>rgGgGrrrrrrrrrrrGGrGGrG</td>\n",
       "      <td>11</td>\n",
       "      <td>48.0</td>\n",
       "      <td>ggggggggggrrrrrrrrrrgrg</td>\n",
       "    </tr>\n",
       "    <tr>\n",
       "      <th>2</th>\n",
       "      <td>25202</td>\n",
       "      <td>0</td>\n",
       "      <td>[]</td>\n",
       "      <td>0.000000</td>\n",
       "      <td>0.000000</td>\n",
       "      <td>0.000000</td>\n",
       "      <td>0.000000</td>\n",
       "      <td>0.000000</td>\n",
       "      <td>0.000000</td>\n",
       "      <td>0.000000</td>\n",
       "      <td>0.000000</td>\n",
       "      <td>0.0</td>\n",
       "      <td>0</td>\n",
       "      <td>3.250170e+04</td>\n",
       "      <td>924.722737</td>\n",
       "      <td>4.318140</td>\n",
       "      <td>3.586446</td>\n",
       "      <td>120.598029</td>\n",
       "      <td>1.031744e+04</td>\n",
       "      <td>335.695376</td>\n",
       "      <td>0.0</td>\n",
       "      <td>1</td>\n",
       "      <td>0</td>\n",
       "      <td>19.0</td>\n",
       "      <td>GGGgrrrrrrgGgGGrrrGG</td>\n",
       "      <td>0</td>\n",
       "      <td>19.0</td>\n",
       "      <td>rgGgGrrrrrrrrrrrGGrGGrG</td>\n",
       "      <td>11</td>\n",
       "      <td>48.0</td>\n",
       "      <td>ggggggggggrrrrrrrrrrgrg</td>\n",
       "    </tr>\n",
       "    <tr>\n",
       "      <th>3</th>\n",
       "      <td>25203</td>\n",
       "      <td>0</td>\n",
       "      <td>[]</td>\n",
       "      <td>0.000000</td>\n",
       "      <td>0.000000</td>\n",
       "      <td>0.000000</td>\n",
       "      <td>0.000000</td>\n",
       "      <td>0.000000</td>\n",
       "      <td>0.000000</td>\n",
       "      <td>0.000000</td>\n",
       "      <td>0.000000</td>\n",
       "      <td>0.0</td>\n",
       "      <td>0</td>\n",
       "      <td>5.051227e+04</td>\n",
       "      <td>1100.544598</td>\n",
       "      <td>5.200979</td>\n",
       "      <td>6.431233</td>\n",
       "      <td>241.016657</td>\n",
       "      <td>1.601038e+04</td>\n",
       "      <td>463.885510</td>\n",
       "      <td>1.0</td>\n",
       "      <td>3</td>\n",
       "      <td>0</td>\n",
       "      <td>19.0</td>\n",
       "      <td>GGGgrrrrrrgGgGGrrrGG</td>\n",
       "      <td>0</td>\n",
       "      <td>19.0</td>\n",
       "      <td>rgGgGrrrrrrrrrrrGGrGGrG</td>\n",
       "      <td>11</td>\n",
       "      <td>48.0</td>\n",
       "      <td>ggggggggggrrrrrrrrrrgrg</td>\n",
       "    </tr>\n",
       "    <tr>\n",
       "      <th>4</th>\n",
       "      <td>25204</td>\n",
       "      <td>0</td>\n",
       "      <td>[]</td>\n",
       "      <td>0.000000</td>\n",
       "      <td>0.000000</td>\n",
       "      <td>0.000000</td>\n",
       "      <td>0.000000</td>\n",
       "      <td>0.000000</td>\n",
       "      <td>0.000000</td>\n",
       "      <td>0.000000</td>\n",
       "      <td>0.000000</td>\n",
       "      <td>0.0</td>\n",
       "      <td>0</td>\n",
       "      <td>5.705453e+04</td>\n",
       "      <td>1113.852123</td>\n",
       "      <td>5.385111</td>\n",
       "      <td>6.785382</td>\n",
       "      <td>271.569370</td>\n",
       "      <td>1.807950e+04</td>\n",
       "      <td>530.103937</td>\n",
       "      <td>1.0</td>\n",
       "      <td>3</td>\n",
       "      <td>0</td>\n",
       "      <td>19.0</td>\n",
       "      <td>GGGgrrrrrrgGgGGrrrGG</td>\n",
       "      <td>0</td>\n",
       "      <td>19.0</td>\n",
       "      <td>rgGgGrrrrrrrrrrrGGrGGrG</td>\n",
       "      <td>11</td>\n",
       "      <td>48.0</td>\n",
       "      <td>ggggggggggrrrrrrrrrrgrg</td>\n",
       "    </tr>\n",
       "    <tr>\n",
       "      <th>...</th>\n",
       "      <td>...</td>\n",
       "      <td>...</td>\n",
       "      <td>...</td>\n",
       "      <td>...</td>\n",
       "      <td>...</td>\n",
       "      <td>...</td>\n",
       "      <td>...</td>\n",
       "      <td>...</td>\n",
       "      <td>...</td>\n",
       "      <td>...</td>\n",
       "      <td>...</td>\n",
       "      <td>...</td>\n",
       "      <td>...</td>\n",
       "      <td>...</td>\n",
       "      <td>...</td>\n",
       "      <td>...</td>\n",
       "      <td>...</td>\n",
       "      <td>...</td>\n",
       "      <td>...</td>\n",
       "      <td>...</td>\n",
       "      <td>...</td>\n",
       "      <td>...</td>\n",
       "      <td>...</td>\n",
       "      <td>...</td>\n",
       "      <td>...</td>\n",
       "      <td>...</td>\n",
       "      <td>...</td>\n",
       "      <td>...</td>\n",
       "      <td>...</td>\n",
       "      <td>...</td>\n",
       "      <td>...</td>\n",
       "    </tr>\n",
       "    <tr>\n",
       "      <th>8995</th>\n",
       "      <td>34195</td>\n",
       "      <td>52</td>\n",
       "      <td>['tram', 'truck_truck', 'DEFAULT_VEHTYPE', 'DE...</td>\n",
       "      <td>0.181145</td>\n",
       "      <td>194300.309894</td>\n",
       "      <td>6498.118625</td>\n",
       "      <td>30.343889</td>\n",
       "      <td>30.414016</td>\n",
       "      <td>1135.241915</td>\n",
       "      <td>61541.781705</td>\n",
       "      <td>602.188689</td>\n",
       "      <td>10518.0</td>\n",
       "      <td>50</td>\n",
       "      <td>1.035623e+07</td>\n",
       "      <td>298932.382590</td>\n",
       "      <td>1492.915635</td>\n",
       "      <td>1543.197178</td>\n",
       "      <td>59286.595645</td>\n",
       "      <td>3.280027e+06</td>\n",
       "      <td>153152.623377</td>\n",
       "      <td>285478.0</td>\n",
       "      <td>2356</td>\n",
       "      <td>9</td>\n",
       "      <td>5.0</td>\n",
       "      <td>rrrrrrrrggrrrrrrrrrr</td>\n",
       "      <td>9</td>\n",
       "      <td>6.0</td>\n",
       "      <td>Grrrrrrrrrrrrrrrrrrrrrr</td>\n",
       "      <td>6</td>\n",
       "      <td>4.0</td>\n",
       "      <td>rrrrrrrrrrrrrrrrrryyrrr</td>\n",
       "    </tr>\n",
       "    <tr>\n",
       "      <th>8996</th>\n",
       "      <td>34196</td>\n",
       "      <td>53</td>\n",
       "      <td>['tram', 'DEFAULT_VEHTYPE', 'truck_truck', 'DE...</td>\n",
       "      <td>0.247139</td>\n",
       "      <td>195624.565105</td>\n",
       "      <td>6598.860550</td>\n",
       "      <td>30.896463</td>\n",
       "      <td>30.197247</td>\n",
       "      <td>1118.704758</td>\n",
       "      <td>61973.963843</td>\n",
       "      <td>601.374697</td>\n",
       "      <td>10568.0</td>\n",
       "      <td>50</td>\n",
       "      <td>1.026276e+07</td>\n",
       "      <td>299508.798829</td>\n",
       "      <td>1484.959727</td>\n",
       "      <td>1522.649404</td>\n",
       "      <td>58323.239028</td>\n",
       "      <td>3.250658e+06</td>\n",
       "      <td>153236.806372</td>\n",
       "      <td>286899.0</td>\n",
       "      <td>2369</td>\n",
       "      <td>9</td>\n",
       "      <td>5.0</td>\n",
       "      <td>rrrrrrrrggrrrrrrrrrr</td>\n",
       "      <td>9</td>\n",
       "      <td>6.0</td>\n",
       "      <td>Grrrrrrrrrrrrrrrrrrrrrr</td>\n",
       "      <td>6</td>\n",
       "      <td>4.0</td>\n",
       "      <td>rrrrrrrrrrrrrrrrrryyrrr</td>\n",
       "    </tr>\n",
       "    <tr>\n",
       "      <th>8997</th>\n",
       "      <td>34197</td>\n",
       "      <td>53</td>\n",
       "      <td>['tram', 'DEFAULT_VEHTYPE', 'truck_truck', 'DE...</td>\n",
       "      <td>0.225469</td>\n",
       "      <td>178850.217767</td>\n",
       "      <td>6577.795503</td>\n",
       "      <td>30.872759</td>\n",
       "      <td>27.146556</td>\n",
       "      <td>977.740806</td>\n",
       "      <td>56690.937989</td>\n",
       "      <td>590.879707</td>\n",
       "      <td>10317.0</td>\n",
       "      <td>49</td>\n",
       "      <td>1.002934e+07</td>\n",
       "      <td>298550.299521</td>\n",
       "      <td>1494.417203</td>\n",
       "      <td>1494.745823</td>\n",
       "      <td>56836.189267</td>\n",
       "      <td>3.177041e+06</td>\n",
       "      <td>153126.254984</td>\n",
       "      <td>288079.0</td>\n",
       "      <td>2383</td>\n",
       "      <td>10</td>\n",
       "      <td>3.0</td>\n",
       "      <td>rrrrrrrryyrrrrrrrrrr</td>\n",
       "      <td>10</td>\n",
       "      <td>3.0</td>\n",
       "      <td>yrrrrrrrrrrrrrrrrrrrrrr</td>\n",
       "      <td>6</td>\n",
       "      <td>4.0</td>\n",
       "      <td>rrrrrrrrrrrrrrrrrryyrrr</td>\n",
       "    </tr>\n",
       "    <tr>\n",
       "      <th>8998</th>\n",
       "      <td>34198</td>\n",
       "      <td>53</td>\n",
       "      <td>['tram', 'DEFAULT_VEHTYPE', 'truck_truck', 'DE...</td>\n",
       "      <td>0.212102</td>\n",
       "      <td>183281.244519</td>\n",
       "      <td>6660.068031</td>\n",
       "      <td>31.349939</td>\n",
       "      <td>27.222564</td>\n",
       "      <td>979.589268</td>\n",
       "      <td>58104.239534</td>\n",
       "      <td>592.245318</td>\n",
       "      <td>10067.0</td>\n",
       "      <td>49</td>\n",
       "      <td>1.000221e+07</td>\n",
       "      <td>297833.825881</td>\n",
       "      <td>1488.489231</td>\n",
       "      <td>1500.619033</td>\n",
       "      <td>56989.616427</td>\n",
       "      <td>3.168340e+06</td>\n",
       "      <td>153076.399943</td>\n",
       "      <td>288953.0</td>\n",
       "      <td>2385</td>\n",
       "      <td>10</td>\n",
       "      <td>3.0</td>\n",
       "      <td>rrrrrrrryyrrrrrrrrrr</td>\n",
       "      <td>10</td>\n",
       "      <td>3.0</td>\n",
       "      <td>yrrrrrrrrrrrrrrrrrrrrrr</td>\n",
       "      <td>6</td>\n",
       "      <td>4.0</td>\n",
       "      <td>rrrrrrrrrrrrrrrrrryyrrr</td>\n",
       "    </tr>\n",
       "    <tr>\n",
       "      <th>8999</th>\n",
       "      <td>34199</td>\n",
       "      <td>54</td>\n",
       "      <td>['tram', 'DEFAULT_VEHTYPE', 'truck_truck', 'DE...</td>\n",
       "      <td>0.211346</td>\n",
       "      <td>194102.722915</td>\n",
       "      <td>6753.188787</td>\n",
       "      <td>31.791324</td>\n",
       "      <td>29.521202</td>\n",
       "      <td>1065.930834</td>\n",
       "      <td>61523.469009</td>\n",
       "      <td>598.756890</td>\n",
       "      <td>9818.0</td>\n",
       "      <td>50</td>\n",
       "      <td>1.007231e+07</td>\n",
       "      <td>298918.589927</td>\n",
       "      <td>1492.910137</td>\n",
       "      <td>1505.299729</td>\n",
       "      <td>57448.258521</td>\n",
       "      <td>3.190412e+06</td>\n",
       "      <td>153083.969771</td>\n",
       "      <td>289871.0</td>\n",
       "      <td>2398</td>\n",
       "      <td>10</td>\n",
       "      <td>3.0</td>\n",
       "      <td>rrrrrrrryyrrrrrrrrrr</td>\n",
       "      <td>10</td>\n",
       "      <td>3.0</td>\n",
       "      <td>yrrrrrrrrrrrrrrrrrrrrrr</td>\n",
       "      <td>7</td>\n",
       "      <td>4.0</td>\n",
       "      <td>rrrrrrrrrrrrrrrrrrrrrrr</td>\n",
       "    </tr>\n",
       "  </tbody>\n",
       "</table>\n",
       "<p>9000 rows × 31 columns</p>\n",
       "</div>"
      ],
      "text/plain": [
       "       Step  num_vehicles                                      vehicle_types  \\\n",
       "0     25200             0                                                 []   \n",
       "1     25201             0                                                 []   \n",
       "2     25202             0                                                 []   \n",
       "3     25203             0                                                 []   \n",
       "4     25204             0                                                 []   \n",
       "...     ...           ...                                                ...   \n",
       "8995  34195            52  ['tram', 'truck_truck', 'DEFAULT_VEHTYPE', 'DE...   \n",
       "8996  34196            53  ['tram', 'DEFAULT_VEHTYPE', 'truck_truck', 'DE...   \n",
       "8997  34197            53  ['tram', 'DEFAULT_VEHTYPE', 'truck_truck', 'DE...   \n",
       "8998  34198            53  ['tram', 'DEFAULT_VEHTYPE', 'truck_truck', 'DE...   \n",
       "8999  34199            54  ['tram', 'DEFAULT_VEHTYPE', 'truck_truck', 'DE...   \n",
       "\n",
       "      avg_speed  localCO2Emission  localCOEmission  localHCEmission  \\\n",
       "0      0.000000          0.000000         0.000000         0.000000   \n",
       "1      0.000000          0.000000         0.000000         0.000000   \n",
       "2      0.000000          0.000000         0.000000         0.000000   \n",
       "3      0.000000          0.000000         0.000000         0.000000   \n",
       "4      0.000000          0.000000         0.000000         0.000000   \n",
       "...         ...               ...              ...              ...   \n",
       "8995   0.181145     194300.309894      6498.118625        30.343889   \n",
       "8996   0.247139     195624.565105      6598.860550        30.896463   \n",
       "8997   0.225469     178850.217767      6577.795503        30.872759   \n",
       "8998   0.212102     183281.244519      6660.068031        31.349939   \n",
       "8999   0.211346     194102.722915      6753.188787        31.791324   \n",
       "\n",
       "      localPMxEmission  localNOxEmission  local_fuel_consumption  \\\n",
       "0             0.000000          0.000000                0.000000   \n",
       "1             0.000000          0.000000                0.000000   \n",
       "2             0.000000          0.000000                0.000000   \n",
       "3             0.000000          0.000000                0.000000   \n",
       "4             0.000000          0.000000                0.000000   \n",
       "...                ...               ...                     ...   \n",
       "8995         30.414016       1135.241915            61541.781705   \n",
       "8996         30.197247       1118.704758            61973.963843   \n",
       "8997         27.146556        977.740806            56690.937989   \n",
       "8998         27.222564        979.589268            58104.239534   \n",
       "8999         29.521202       1065.930834            61523.469009   \n",
       "\n",
       "      localNoiseEmission  localWaitingTime  localStoppedVehicles  \\\n",
       "0               0.000000               0.0                     0   \n",
       "1               0.000000               0.0                     0   \n",
       "2               0.000000               0.0                     0   \n",
       "3               0.000000               0.0                     0   \n",
       "4               0.000000               0.0                     0   \n",
       "...                  ...               ...                   ...   \n",
       "8995          602.188689           10518.0                    50   \n",
       "8996          601.374697           10568.0                    50   \n",
       "8997          590.879707           10317.0                    49   \n",
       "8998          592.245318           10067.0                    49   \n",
       "8999          598.756890            9818.0                    50   \n",
       "\n",
       "      totalCO2Emission  totalCOEmission  totalHCEmission  totalPMxEmission  \\\n",
       "0         1.123389e+04       359.172222         1.453889          2.442333   \n",
       "1         2.186324e+04       666.801335         3.018414          2.957748   \n",
       "2         3.250170e+04       924.722737         4.318140          3.586446   \n",
       "3         5.051227e+04      1100.544598         5.200979          6.431233   \n",
       "4         5.705453e+04      1113.852123         5.385111          6.785382   \n",
       "...                ...              ...              ...               ...   \n",
       "8995      1.035623e+07    298932.382590      1492.915635       1543.197178   \n",
       "8996      1.026276e+07    299508.798829      1484.959727       1522.649404   \n",
       "8997      1.002934e+07    298550.299521      1494.417203       1494.745823   \n",
       "8998      1.000221e+07    297833.825881      1488.489231       1500.619033   \n",
       "8999      1.007231e+07    298918.589927      1492.910137       1505.299729   \n",
       "\n",
       "      totalNOxEmission  totalFuelConsumption  totalNoiseEmission  \\\n",
       "0            86.401389          3.550833e+03          178.991223   \n",
       "1            97.425541          6.936337e+03          271.159876   \n",
       "2           120.598029          1.031744e+04          335.695376   \n",
       "3           241.016657          1.601038e+04          463.885510   \n",
       "4           271.569370          1.807950e+04          530.103937   \n",
       "...                ...                   ...                 ...   \n",
       "8995      59286.595645          3.280027e+06       153152.623377   \n",
       "8996      58323.239028          3.250658e+06       153236.806372   \n",
       "8997      56836.189267          3.177041e+06       153126.254984   \n",
       "8998      56989.616427          3.168340e+06       153076.399943   \n",
       "8999      57448.258521          3.190412e+06       153083.969771   \n",
       "\n",
       "      totalWaitingTime  totalStoppedVehicles  tls159_phase  \\\n",
       "0                  0.0                     4             0   \n",
       "1                  0.0                     1             0   \n",
       "2                  0.0                     1             0   \n",
       "3                  1.0                     3             0   \n",
       "4                  1.0                     3             0   \n",
       "...                ...                   ...           ...   \n",
       "8995          285478.0                  2356             9   \n",
       "8996          286899.0                  2369             9   \n",
       "8997          288079.0                  2383            10   \n",
       "8998          288953.0                  2385            10   \n",
       "8999          289871.0                  2398            10   \n",
       "\n",
       "      tls159_phase_duration          tls159_state  tls160_phase  \\\n",
       "0                      19.0  GGGgrrrrrrgGgGGrrrGG             0   \n",
       "1                      19.0  GGGgrrrrrrgGgGGrrrGG             0   \n",
       "2                      19.0  GGGgrrrrrrgGgGGrrrGG             0   \n",
       "3                      19.0  GGGgrrrrrrgGgGGrrrGG             0   \n",
       "4                      19.0  GGGgrrrrrrgGgGGrrrGG             0   \n",
       "...                     ...                   ...           ...   \n",
       "8995                    5.0  rrrrrrrrggrrrrrrrrrr             9   \n",
       "8996                    5.0  rrrrrrrrggrrrrrrrrrr             9   \n",
       "8997                    3.0  rrrrrrrryyrrrrrrrrrr            10   \n",
       "8998                    3.0  rrrrrrrryyrrrrrrrrrr            10   \n",
       "8999                    3.0  rrrrrrrryyrrrrrrrrrr            10   \n",
       "\n",
       "      tls160_phase_duration             tls160_state  tls161_phase  \\\n",
       "0                      19.0  rgGgGrrrrrrrrrrrGGrGGrG            11   \n",
       "1                      19.0  rgGgGrrrrrrrrrrrGGrGGrG            11   \n",
       "2                      19.0  rgGgGrrrrrrrrrrrGGrGGrG            11   \n",
       "3                      19.0  rgGgGrrrrrrrrrrrGGrGGrG            11   \n",
       "4                      19.0  rgGgGrrrrrrrrrrrGGrGGrG            11   \n",
       "...                     ...                      ...           ...   \n",
       "8995                    6.0  Grrrrrrrrrrrrrrrrrrrrrr             6   \n",
       "8996                    6.0  Grrrrrrrrrrrrrrrrrrrrrr             6   \n",
       "8997                    3.0  yrrrrrrrrrrrrrrrrrrrrrr             6   \n",
       "8998                    3.0  yrrrrrrrrrrrrrrrrrrrrrr             6   \n",
       "8999                    3.0  yrrrrrrrrrrrrrrrrrrrrrr             7   \n",
       "\n",
       "      tls161_phase_duration             tls161_state  \n",
       "0                      48.0  ggggggggggrrrrrrrrrrgrg  \n",
       "1                      48.0  ggggggggggrrrrrrrrrrgrg  \n",
       "2                      48.0  ggggggggggrrrrrrrrrrgrg  \n",
       "3                      48.0  ggggggggggrrrrrrrrrrgrg  \n",
       "4                      48.0  ggggggggggrrrrrrrrrrgrg  \n",
       "...                     ...                      ...  \n",
       "8995                    4.0  rrrrrrrrrrrrrrrrrryyrrr  \n",
       "8996                    4.0  rrrrrrrrrrrrrrrrrryyrrr  \n",
       "8997                    4.0  rrrrrrrrrrrrrrrrrryyrrr  \n",
       "8998                    4.0  rrrrrrrrrrrrrrrrrryyrrr  \n",
       "8999                    4.0  rrrrrrrrrrrrrrrrrrrrrrr  \n",
       "\n",
       "[9000 rows x 31 columns]"
      ]
     },
     "execution_count": 179,
     "metadata": {},
     "output_type": "execute_result"
    }
   ],
   "source": [
    "# load data\n",
    "df = pd.read_csv('../src/data/actuated_output/actuated_output_9000steps_moreInfo.csv')\n",
    "df"
   ]
  },
  {
   "cell_type": "code",
   "execution_count": 180,
   "metadata": {
    "pycharm": {
     "name": "#%%\n"
    }
   },
   "outputs": [],
   "source": [
    "df = df[df['num_vehicles'] != 0]"
   ]
  },
  {
   "cell_type": "code",
   "execution_count": 86,
   "metadata": {
    "pycharm": {
     "name": "#%%\n"
    }
   },
   "outputs": [
    {
     "data": {
      "text/plain": [
       "localCO2Emission          161659.538171\n",
       "localCOEmission             4932.733414\n",
       "localHCEmission               24.395986\n",
       "localPMxEmission              26.341775\n",
       "localNOxEmission             982.120171\n",
       "localNoiseEmission           558.671151\n",
       "local_fuel_consumption     51194.174864\n",
       "dtype: float64"
      ]
     },
     "execution_count": 86,
     "metadata": {},
     "output_type": "execute_result"
    }
   ],
   "source": [
    "df[['localCO2Emission','localCOEmission','localHCEmission','localPMxEmission','localNOxEmission','localNoiseEmission', 'local_fuel_consumption']].mean()"
   ]
  },
  {
   "cell_type": "code",
   "execution_count": 138,
   "metadata": {
    "pycharm": {
     "name": "#%%\n"
    }
   },
   "outputs": [
    {
     "data": {
      "text/plain": [
       "localWaitingTime        8527.401052\n",
       "localStoppedVehicles      38.605328\n",
       "dtype: float64"
      ]
     },
     "execution_count": 138,
     "metadata": {},
     "output_type": "execute_result"
    }
   ],
   "source": [
    "df[['localWaitingTime','localStoppedVehicles']].mean()"
   ]
  },
  {
   "cell_type": "code",
   "execution_count": 147,
   "metadata": {
    "pycharm": {
     "name": "#%%\n"
    }
   },
   "outputs": [
    {
     "data": {
      "text/plain": [
       "8     1900\n",
       "0     1881\n",
       "5     1878\n",
       "3      589\n",
       "6      500\n",
       "9      500\n",
       "1      495\n",
       "7      300\n",
       "10     300\n",
       "2      297\n",
       "4      294\n",
       "Name: tls159_phase, dtype: int64"
      ]
     },
     "execution_count": 147,
     "metadata": {},
     "output_type": "execute_result"
    }
   ],
   "source": [
    "df.tls159_phase.value_counts()"
   ]
  },
  {
   "cell_type": "code",
   "execution_count": 111,
   "metadata": {
    "pycharm": {
     "name": "#%%\n"
    }
   },
   "outputs": [
    {
     "data": {
      "text/html": [
       "<div>\n",
       "<style scoped>\n",
       "    .dataframe tbody tr th:only-of-type {\n",
       "        vertical-align: middle;\n",
       "    }\n",
       "\n",
       "    .dataframe tbody tr th {\n",
       "        vertical-align: top;\n",
       "    }\n",
       "\n",
       "    .dataframe thead th {\n",
       "        text-align: right;\n",
       "    }\n",
       "</style>\n",
       "<table border=\"1\" class=\"dataframe\">\n",
       "  <thead>\n",
       "    <tr style=\"text-align: right;\">\n",
       "      <th></th>\n",
       "      <th>localCO2Emission</th>\n",
       "      <th>localCOEmission</th>\n",
       "      <th>localHCEmission</th>\n",
       "      <th>localPMxEmission</th>\n",
       "      <th>localNOxEmission</th>\n",
       "      <th>localNoiseEmission</th>\n",
       "      <th>local_fuel_consumption</th>\n",
       "    </tr>\n",
       "  </thead>\n",
       "  <tbody>\n",
       "    <tr>\n",
       "      <th>count</th>\n",
       "      <td>8934.000000</td>\n",
       "      <td>8934.000000</td>\n",
       "      <td>8934.000000</td>\n",
       "      <td>8934.000000</td>\n",
       "      <td>8934.000000</td>\n",
       "      <td>8934.000000</td>\n",
       "      <td>8934.000000</td>\n",
       "    </tr>\n",
       "    <tr>\n",
       "      <th>mean</th>\n",
       "      <td>161659.538171</td>\n",
       "      <td>4932.733414</td>\n",
       "      <td>24.395986</td>\n",
       "      <td>26.341775</td>\n",
       "      <td>982.120171</td>\n",
       "      <td>558.671151</td>\n",
       "      <td>51194.174864</td>\n",
       "    </tr>\n",
       "    <tr>\n",
       "      <th>std</th>\n",
       "      <td>71148.392174</td>\n",
       "      <td>2107.977845</td>\n",
       "      <td>9.967727</td>\n",
       "      <td>13.882439</td>\n",
       "      <td>518.588792</td>\n",
       "      <td>171.344259</td>\n",
       "      <td>22503.813742</td>\n",
       "    </tr>\n",
       "    <tr>\n",
       "      <th>min</th>\n",
       "      <td>0.000000</td>\n",
       "      <td>0.000000</td>\n",
       "      <td>0.000000</td>\n",
       "      <td>0.000000</td>\n",
       "      <td>0.000000</td>\n",
       "      <td>48.584153</td>\n",
       "      <td>0.000000</td>\n",
       "    </tr>\n",
       "    <tr>\n",
       "      <th>25%</th>\n",
       "      <td>112245.933912</td>\n",
       "      <td>3214.353481</td>\n",
       "      <td>16.816778</td>\n",
       "      <td>17.214878</td>\n",
       "      <td>632.097585</td>\n",
       "      <td>452.418422</td>\n",
       "      <td>35540.623180</td>\n",
       "    </tr>\n",
       "    <tr>\n",
       "      <th>50%</th>\n",
       "      <td>156939.870355</td>\n",
       "      <td>5042.597812</td>\n",
       "      <td>25.088799</td>\n",
       "      <td>24.077436</td>\n",
       "      <td>891.976657</td>\n",
       "      <td>546.524912</td>\n",
       "      <td>49725.587378</td>\n",
       "    </tr>\n",
       "    <tr>\n",
       "      <th>75%</th>\n",
       "      <td>216087.356136</td>\n",
       "      <td>6742.382730</td>\n",
       "      <td>32.307772</td>\n",
       "      <td>36.090041</td>\n",
       "      <td>1376.911273</td>\n",
       "      <td>666.130636</td>\n",
       "      <td>68449.168332</td>\n",
       "    </tr>\n",
       "    <tr>\n",
       "      <th>max</th>\n",
       "      <td>358090.949834</td>\n",
       "      <td>9328.203731</td>\n",
       "      <td>49.180591</td>\n",
       "      <td>63.143881</td>\n",
       "      <td>2463.819377</td>\n",
       "      <td>1137.788603</td>\n",
       "      <td>113237.425938</td>\n",
       "    </tr>\n",
       "  </tbody>\n",
       "</table>\n",
       "</div>"
      ],
      "text/plain": [
       "       localCO2Emission  localCOEmission  localHCEmission  localPMxEmission  \\\n",
       "count       8934.000000      8934.000000      8934.000000       8934.000000   \n",
       "mean      161659.538171      4932.733414        24.395986         26.341775   \n",
       "std        71148.392174      2107.977845         9.967727         13.882439   \n",
       "min            0.000000         0.000000         0.000000          0.000000   \n",
       "25%       112245.933912      3214.353481        16.816778         17.214878   \n",
       "50%       156939.870355      5042.597812        25.088799         24.077436   \n",
       "75%       216087.356136      6742.382730        32.307772         36.090041   \n",
       "max       358090.949834      9328.203731        49.180591         63.143881   \n",
       "\n",
       "       localNOxEmission  localNoiseEmission  local_fuel_consumption  \n",
       "count       8934.000000         8934.000000             8934.000000  \n",
       "mean         982.120171          558.671151            51194.174864  \n",
       "std          518.588792          171.344259            22503.813742  \n",
       "min            0.000000           48.584153                0.000000  \n",
       "25%          632.097585          452.418422            35540.623180  \n",
       "50%          891.976657          546.524912            49725.587378  \n",
       "75%         1376.911273          666.130636            68449.168332  \n",
       "max         2463.819377         1137.788603           113237.425938  "
      ]
     },
     "execution_count": 111,
     "metadata": {},
     "output_type": "execute_result"
    }
   ],
   "source": [
    "df[['localCO2Emission','localCOEmission','localHCEmission','localPMxEmission','localNOxEmission','localNoiseEmission', 'local_fuel_consumption']].describe()"
   ]
  },
  {
   "cell_type": "markdown",
   "metadata": {
    "pycharm": {
     "name": "#%% md\n"
    }
   },
   "source": [
    "### RL Results"
   ]
  },
  {
   "cell_type": "markdown",
   "metadata": {
    "pycharm": {
     "name": "#%% md\n"
    }
   },
   "source": [
    "#### Load episode data into one dataframe for each reward function"
   ]
  },
  {
   "cell_type": "code",
   "execution_count": null,
   "metadata": {
    "pycharm": {
     "name": "#%%\n"
    }
   },
   "outputs": [],
   "source": [
    "# Load data for speed evaluation\n",
    "inputdir = '../src/data/evaluation/speed'\n",
    "\n",
    "speed_eval = pd.DataFrame()\n",
    "i = 1\n",
    "\n",
    "# iterate over all files in the folder for each reward type\n",
    "for file in os.listdir(inputdir):\n",
    "    \n",
    "    # create dataframe for all files that start with avg_speed\n",
    "    if file.startswith('average-speed_200_df'):\n",
    "        temp_df_speed = pd.read_csv(os.path.join(inputdir, file))\n",
    "        temp_df_speed['episode'] = i # add episode column\n",
    "        speed_eval = speed_eval.append(temp_df_speed, ignore_index=True)\n",
    "        i += 1\n",
    "\n",
    "# remove all rows with 0 vehicles\n",
    "speed_eval = speed_eval[speed_eval['num_vehicles'] != 0]"
   ]
  },
  {
   "cell_type": "code",
   "execution_count": null,
   "metadata": {
    "pycharm": {
     "name": "#%%\n"
    }
   },
   "outputs": [],
   "source": [
    "# Load data to evaluate total emissions for speed\n",
    "inputdir = '../src/data/evaluation/speed'\n",
    "\n",
    "speed_total = pd.DataFrame()\n",
    "i = 1\n",
    "\n",
    "# iterate over all files in the folder for each reward type\n",
    "for file in os.listdir(inputdir):\n",
    "    \n",
    "    # create dataframe for all files that start with avg_speed\n",
    "    if file.startswith('average-speed_200_conn'):\n",
    "        temp_df_speed = pd.read_csv(os.path.join(inputdir, file))\n",
    "        temp_df_speed['episode'] = i # add episode column\n",
    "        speed_total = speed_total.append(temp_df_speed, ignore_index=True)\n",
    "        i += 1\n",
    "\n",
    "# remove all rows with 0 vehicles\n",
    "speed_total = speed_total[speed_total['system_local_#vehicles'] != 0]"
   ]
  },
  {
   "cell_type": "code",
   "execution_count": null,
   "metadata": {
    "pycharm": {
     "name": "#%%\n"
    }
   },
   "outputs": [],
   "source": [
    "# Load data for queue evaluation\n",
    "inputdir = '../src/data/evaluation/queue'\n",
    "\n",
    "queue_eval = pd.DataFrame()\n",
    "i = 1\n",
    "\n",
    "# iterate over all files in the folder for each reward type\n",
    "for file in os.listdir(inputdir):\n",
    "    \n",
    "    # create dataframe for all files that start with avg_queue\n",
    "    if file.startswith('queue_200_df'):\n",
    "        temp_df_queue = pd.read_csv(os.path.join(inputdir, file))\n",
    "        temp_df_queue['episode'] = i # add episode column\n",
    "        queue_eval = queue_eval.append(temp_df_queue, ignore_index=True)\n",
    "        i += 1\n",
    "\n",
    "# remove all rows with 0 vehicles\n",
    "queue_eval = queue_eval[queue_eval['num_vehicles'] != 0]"
   ]
  },
  {
   "cell_type": "code",
   "execution_count": null,
   "metadata": {
    "pycharm": {
     "name": "#%%\n"
    }
   },
   "outputs": [],
   "source": [
    "# Load data to evaluate total emissions for queue\n",
    "inputdir = '../src/data/evaluation/queue'\n",
    "\n",
    "queue_total = pd.DataFrame()\n",
    "i = 1\n",
    "\n",
    "# iterate over all files in the folder for each reward type\n",
    "for file in os.listdir(inputdir):\n",
    "    \n",
    "    # create dataframe for all files that start with avg_speed\n",
    "    if file.startswith('queue_200_conn'):\n",
    "        temp_df_queue = pd.read_csv(os.path.join(inputdir, file))\n",
    "        temp_df_queue['episode'] = i # add episode column\n",
    "        queue_total = queue_total.append(temp_df_queue, ignore_index=True)\n",
    "        i += 1\n",
    "\n",
    "# remove all rows with 0 vehicles\n",
    "queue_total = queue_total[queue_total['system_local_#vehicles'] != 0]"
   ]
  },
  {
   "cell_type": "code",
   "execution_count": null,
   "metadata": {
    "pycharm": {
     "name": "#%%\n"
    }
   },
   "outputs": [],
   "source": [
    "# Load data for waitTime evaluation\n",
    "inputdir = '../src/data/evaluation/waitingTime'\n",
    "\n",
    "waitTime_200_eval = pd.DataFrame()\n",
    "i = 1\n",
    "\n",
    "# iterate over all files in the folder for each reward type\n",
    "for file in os.listdir(inputdir):\n",
    "    \n",
    "    # create dataframe for all files that start with avg_waitTime\n",
    "    if file.startswith('waitingTime_200_df'):\n",
    "        temp_df_waitTime200 = pd.read_csv(os.path.join(inputdir, file))\n",
    "        temp_df_waitTime200['episode'] = i # add episode column\n",
    "        waitTime_200_eval = waitTime_200_eval.append(temp_df_waitTime200, ignore_index=True)\n",
    "        i += 1\n",
    "\n",
    "# remove all rows with 0 vehicles\n",
    "waitTime_200_eval = waitTime_200_eval[waitTime_200_eval['num_vehicles'] != 0]"
   ]
  },
  {
   "cell_type": "code",
   "execution_count": null,
   "metadata": {
    "pycharm": {
     "name": "#%%\n"
    }
   },
   "outputs": [],
   "source": [
    "# Load data to evaluate total emissions for waiting Time\n",
    "inputdir = '../src/data/evaluation/waitingTime'\n",
    "\n",
    "waitingTime_total = pd.DataFrame()\n",
    "i = 1\n",
    "\n",
    "# iterate over all files in the folder for each reward type\n",
    "for file in os.listdir(inputdir):\n",
    "    \n",
    "    # create dataframe for all files that start with avg_speed\n",
    "    if file.startswith('waitingTime_200_conn'):\n",
    "        temp_dfWT = pd.read_csv(os.path.join(inputdir, file))\n",
    "        temp_dfWT['episode'] = i # add episode column\n",
    "        waitingTime_total = waitingTime_total.append(temp_dfWT, ignore_index=True)\n",
    "        i += 1\n",
    "\n",
    "# remove all rows with 0 vehicles\n",
    "waitingTime_total = waitingTime_total[waitingTime_total['system_local_#vehicles'] != 0]"
   ]
  },
  {
   "cell_type": "code",
   "execution_count": null,
   "metadata": {
    "pycharm": {
     "name": "#%%\n"
    }
   },
   "outputs": [],
   "source": [
    "# Load data for waitTime evaluation 400\n",
    "inputdir = '../src/data/evaluation/waitingTime'\n",
    "\n",
    "waitTime_400_eval = pd.DataFrame()\n",
    "i = 1\n",
    "\n",
    "# iterate over all files in the folder for each reward type\n",
    "for file in os.listdir(inputdir):\n",
    "    \n",
    "    # create dataframe for all files that start with avg_waitTime\n",
    "    if file.startswith('waitingTime_400_df'):\n",
    "        temp_df_waitTime400 = pd.read_csv(os.path.join(inputdir, file))\n",
    "        temp_df_waitTime400['episode'] = i # add episode column\n",
    "        waitTime_400_eval = waitTime_400_eval.append(temp_df_waitTime400, ignore_index=True)\n",
    "        i += 1\n",
    "\n",
    "# remove all rows with 0 vehicles\n",
    "waitTime_400_eval = waitTime_400_eval[waitTime_400_eval['num_vehicles'] != 0]"
   ]
  },
  {
   "cell_type": "code",
   "execution_count": null,
   "metadata": {
    "pycharm": {
     "name": "#%%\n"
    }
   },
   "outputs": [],
   "source": [
    "# Load data to evaluate total emissions for waiting Time\n",
    "inputdir = '../src/data/evaluation/waitingTime'\n",
    "\n",
    "waitingTime400_total = pd.DataFrame()\n",
    "temp_dfWT = pd.DataFrame()\n",
    "i = 1\n",
    "\n",
    "# iterate over all files in the folder for each reward type\n",
    "for file in os.listdir(inputdir):\n",
    "    \n",
    "    # create dataframe for all files that start with avg_speed\n",
    "    if file.startswith('waitingTime_400_conn'):\n",
    "        temp_dfWT = pd.read_csv(os.path.join(inputdir, file))\n",
    "        temp_dfWT['episode'] = i # add episode column\n",
    "        waitingTime400_total = waitingTime400_total.append(temp_dfWT, ignore_index=True)\n",
    "        i += 1\n",
    "\n",
    "# remove all rows with 0 ve400hicles\n",
    "waitingTime400_total = waitingTime400_total[waitingTime400_total['system_local_#vehicles'] != 0]"
   ]
  },
  {
   "cell_type": "code",
   "execution_count": null,
   "metadata": {
    "pycharm": {
     "name": "#%%\n"
    }
   },
   "outputs": [],
   "source": [
    "# Load data for waitTime evaluation 900\n",
    "inputdir = '../src/data/evaluation/waitingTime'\n",
    "\n",
    "waitTime_900_eval = pd.DataFrame()\n",
    "i = 1\n",
    "\n",
    "# iterate over all files in the folder for each reward type\n",
    "for file in os.listdir(inputdir):\n",
    "    \n",
    "    # create dataframe for all files that start with avg_waitTime\n",
    "    if file.startswith('waitingTime_900_df'):\n",
    "        temp_df_waitTime900 = pd.read_csv(os.path.join(inputdir, file))\n",
    "        temp_df_waitTime900['episode'] = i # add episode column\n",
    "        waitTime_900_eval = waitTime_900_eval.append(temp_df_waitTime900, ignore_index=True)\n",
    "        i += 1\n",
    "\n",
    "# remove all rows with 0 vehicles\n",
    "waitTime_900_eval = waitTime_900_eval[waitTime_900_eval['num_vehicles'] != 0]"
   ]
  },
  {
   "cell_type": "code",
   "execution_count": null,
   "metadata": {
    "pycharm": {
     "name": "#%%\n"
    }
   },
   "outputs": [],
   "source": [
    "# Load data to evaluate total emissions for waiting Time\n",
    "inputdir = '../src/data/evaluation/waitingTime'\n",
    "\n",
    "waitingTime900_total = pd.DataFrame()\n",
    "temp_dfWT = pd.DataFrame()\n",
    "i = 1\n",
    "\n",
    "# iterate over all files in the folder for each reward type\n",
    "for file in os.listdir(inputdir):\n",
    "    \n",
    "    # create dataframe for all files that start with avg_speed\n",
    "    if file.startswith('waitingTime_900_conn'):\n",
    "        temp_dfWT = pd.read_csv(os.path.join(inputdir, file))\n",
    "        temp_dfWT['episode'] = i # add episode column\n",
    "        waitingTime900_total = waitingTime900_total.append(temp_dfWT, ignore_index=True)\n",
    "        i += 1\n",
    "\n",
    "# remove all rows with 0 vehicles\n",
    "waitingTime900_total = waitingTime900_total[waitingTime900_total['system_local_#vehicles'] != 0]"
   ]
  },
  {
   "cell_type": "code",
   "execution_count": null,
   "metadata": {
    "pycharm": {
     "name": "#%%\n"
    }
   },
   "outputs": [],
   "source": [
    "# Load data for emission evaluation\n",
    "inputdir = '../src/data/evaluation/emission'\n",
    "\n",
    "emission_eval = pd.DataFrame()\n",
    "i = 1\n",
    "\n",
    "# iterate over all files in the folder for each reward type\n",
    "for file in os.listdir(inputdir):\n",
    "    \n",
    "    # create dataframe for all files that start with avg_emission\n",
    "    if file.startswith('combined_emission_200_df'):\n",
    "        temp_df_emission = pd.read_csv(os.path.join(inputdir, file))\n",
    "        temp_df_emission['episode'] = i # add episode column\n",
    "        emission_eval = emission_eval.append(temp_df_emission, ignore_index=True)\n",
    "        i += 1\n",
    "        \n",
    "# remove all rows with 0 vehicles\n",
    "emission_eval = emission_eval[emission_eval['num_vehicles'] != 0]"
   ]
  },
  {
   "cell_type": "markdown",
   "metadata": {
    "pycharm": {
     "name": "#%% md\n"
    }
   },
   "source": [
    "#### Vehicle / Simulation Statistics"
   ]
  },
  {
   "cell_type": "code",
   "execution_count": 193,
   "metadata": {
    "pycharm": {
     "name": "#%%\n"
    }
   },
   "outputs": [
    {
     "data": {
      "image/png": "[encoded data removed]",
      "text/plain": [
       "<Figure size 500x300 with 1 Axes>"
      ]
     },
     "metadata": {},
     "output_type": "display_data"
    }
   ],
   "source": [
    "# get average number of vehicles\n",
    "df_list = [(speed_eval, 'Speed'), (queue_eval, 'Queue'), (waitTime_200_eval, 'WT 200'), \n",
    "       (waitTime_400_eval, 'WT 400'),(waitTime_900_eval, 'WT 900'),(df, 'Actuated')]\n",
    "\n",
    "means = []\n",
    "categories = []\n",
    "\n",
    "colors = sns.color_palette(\"Blues\")\n",
    "\n",
    "for (df, name) in df_list:\n",
    "       means.append(df['num_vehicles'].mean())\n",
    "       categories.append(name)\n",
    "\n",
    "plt.figure(figsize=(5, 3))\n",
    "\n",
    "# Create bar chart\n",
    "plt.bar(categories, means, align='center', alpha=1, capsize=10, color=colors)\n",
    "\n",
    "# Add values on top of each bar\n",
    "for bar, mean in zip(bars, means):\n",
    "    plt.text(bar.get_x() + bar.get_width() / 2, bar.get_height(), f'{mean:.2f}', ha='center', va='bottom', fontsize=10)\n",
    "\n",
    "\n",
    "plt.ylabel('Average Count')\n",
    "\n",
    "plt.show()\n"
   ]
  },
  {
   "cell_type": "code",
   "execution_count": 194,
   "metadata": {
    "pycharm": {
     "name": "#%%\n"
    }
   },
   "outputs": [
    {
     "data": {
      "image/png": "[encoded data removed]",
      "text/plain": [
       "<Figure size 500x300 with 1 Axes>"
      ]
     },
     "metadata": {},
     "output_type": "display_data"
    }
   ],
   "source": [
    "# get average waiting time\n",
    "\n",
    "df_list = [(speed_eval, 'Speed'), (queue_eval, 'Queue'), (waitTime_200_eval, 'WT 200'), \n",
    "       (waitTime_400_eval, 'WT 400'),(waitTime_900_eval, 'WT 900'),(df, 'Actuated')]\n",
    "\n",
    "means = []\n",
    "categories = []\n",
    "\n",
    "colors = sns.color_palette(\"Blues\")\n",
    "\n",
    "for (df, name) in df_list:\n",
    "       means.append(df['localWaitingTime'].mean())\n",
    "       categories.append(name)\n",
    "\n",
    "plt.figure(figsize=(5, 3))\n",
    "\n",
    "# Create bar chart\n",
    "plt.bar(categories, means, align='center', alpha=1, capsize=10, color=colors)\n",
    "\n",
    "plt.ylabel('Average Accumulated Waiting Time')\n",
    "\n",
    "# Add values on top of each bar\n",
    "for bar, mean in zip(bars, means):\n",
    "    plt.text(bar.get_x() + bar.get_width() / 2, bar.get_height(), f'{mean:.2f}', ha='center', va='bottom', fontsize=10)\n",
    "\n",
    "\n",
    "plt.show()\n",
    "\n",
    "\t"
   ]
  },
  {
   "cell_type": "code",
   "execution_count": 192,
   "metadata": {
    "pycharm": {
     "name": "#%%\n"
    }
   },
   "outputs": [
    {
     "data": {
      "image/png": "[encoded data removed]",
      "text/plain": [
       "<Figure size 500x300 with 1 Axes>"
      ]
     },
     "metadata": {},
     "output_type": "display_data"
    }
   ],
   "source": [
    "# get average vehicles stopped\n",
    "\n",
    "df_list = [(speed_eval, 'Speed'), (queue_eval, 'Queue'), (waitTime_200_eval, 'WT 200'), \n",
    "       (waitTime_400_eval, 'WT 400'),(waitTime_900_eval, 'WT 900'),(df, 'Actuated')]\n",
    "\n",
    "means = []\n",
    "categories = []\n",
    "\n",
    "colors = sns.color_palette(\"Blues\")\n",
    "\n",
    "for (df, name) in df_list:\n",
    "    means.append(df['localStoppedVehicles'].mean())\n",
    "    categories.append(name)\n",
    "\n",
    "plt.figure(figsize=(5, 3))\n",
    "\n",
    "# Create bar chart\n",
    "bars = plt.bar(categories, means, align='center', alpha=1, capsize=10, color=colors)\n",
    "\n",
    "plt.ylabel('Average Count')\n",
    "\n",
    "# Add values on top of each bar\n",
    "for bar, mean in zip(bars, means):\n",
    "    plt.text(bar.get_x() + bar.get_width() / 2, bar.get_height(), f'{mean:.2f}', ha='center', va='bottom', fontsize=10)\n",
    "\n",
    "\n",
    "plt.show()\n"
   ]
  },
  {
   "cell_type": "markdown",
   "metadata": {
    "pycharm": {
     "name": "#%% md\n"
    }
   },
   "source": [
    "#### Compare total emission of the entire simulation sceanrio"
   ]
  },
  {
   "cell_type": "code",
   "execution_count": 7,
   "metadata": {
    "pycharm": {
     "name": "#%%\n"
    }
   },
   "outputs": [
    {
     "data": {
      "text/plain": [
       "totalCO2Emission      6225.563043\n",
       "totalCOEmission        152.394163\n",
       "totalHCEmission          0.784381\n",
       "totalPMxEmission         0.906551\n",
       "totalNOxEmission        36.104607\n",
       "totalNoiseEmission      87.941218\n",
       "dtype: float64"
      ]
     },
     "execution_count": 7,
     "metadata": {},
     "output_type": "execute_result"
    }
   ],
   "source": [
    "df[['totalCO2Emission','totalCOEmission','totalHCEmission','totalPMxEmission','totalNOxEmission','totalNoiseEmission']].mean()/1000"
   ]
  },
  {
   "cell_type": "code",
   "execution_count": 21,
   "metadata": {
    "pycharm": {
     "name": "#%%\n"
    }
   },
   "outputs": [
    {
     "name": "stdout",
     "output_type": "stream",
     "text": [
      "Speed\n"
     ]
    },
    {
     "data": {
      "text/plain": [
       "system_total_CO2               6084.634717\n",
       "system_total_PMx                  0.886119\n",
       "system_total_NOx                 35.381860\n",
       "system_total_noise_emission      85.529256\n",
       "dtype: float64"
      ]
     },
     "execution_count": 21,
     "metadata": {},
     "output_type": "execute_result"
    }
   ],
   "source": [
    "print('Speed')\n",
    "speed_total[['system_total_CO2','system_total_PMx','system_total_NOx','system_total_noise_emission']].mean()/1000"
   ]
  },
  {
   "cell_type": "code",
   "execution_count": 42,
   "metadata": {
    "pycharm": {
     "name": "#%%\n"
    }
   },
   "outputs": [
    {
     "name": "stdout",
     "output_type": "stream",
     "text": [
      "Queue\n"
     ]
    },
    {
     "data": {
      "text/plain": [
       "system_total_CO2               6196.681883\n",
       "system_total_PMx                  0.904999\n",
       "system_total_NOx                 36.005674\n",
       "system_total_noise_emission      87.513588\n",
       "dtype: float64"
      ]
     },
     "execution_count": 42,
     "metadata": {},
     "output_type": "execute_result"
    }
   ],
   "source": [
    "print('Queue')\n",
    "queue_total[['system_total_CO2','system_total_PMx','system_total_NOx','system_total_noise_emission']].mean()/1000"
   ]
  },
  {
   "cell_type": "code",
   "execution_count": 43,
   "metadata": {
    "pycharm": {
     "name": "#%%\n"
    }
   },
   "outputs": [
    {
     "name": "stdout",
     "output_type": "stream",
     "text": [
      "Waiting Time\n"
     ]
    },
    {
     "data": {
      "text/plain": [
       "system_total_CO2               5994.265282\n",
       "system_total_PMx                  0.876227\n",
       "system_total_NOx                 35.027504\n",
       "system_total_noise_emission      83.957299\n",
       "dtype: float64"
      ]
     },
     "execution_count": 43,
     "metadata": {},
     "output_type": "execute_result"
    }
   ],
   "source": [
    "print('Waiting Time')\n",
    "waitingTime_total[['system_total_CO2','system_total_PMx','system_total_NOx','system_total_noise_emission']].mean()/1000"
   ]
  },
  {
   "cell_type": "code",
   "execution_count": 60,
   "metadata": {
    "pycharm": {
     "name": "#%%\n"
    }
   },
   "outputs": [
    {
     "name": "stdout",
     "output_type": "stream",
     "text": [
      "Reject the null hypothesis for Actuated vs. Diff Waiting Time.\n",
      "Reject the null hypothesis for Actuated vs. Average Speed.\n",
      "Fail to reject the null hypothesis for Actuated vs. Queue.\n",
      "T-statistics and p-values:\n",
      "Actuated vs. Diff Waiting Time - t-statistic: 7.008228112821554, p-value: 2.4995787173826684e-12\n",
      "Actuated vs. Average Speed - t-statistic: 4.1959116209405956, p-value: 2.7308752122297823e-05\n",
      "Actuated vs. Queue - t-statistic: 0.8263730302544684, p-value: 0.4086035437742821\n"
     ]
    }
   ],
   "source": [
    "# get significance level for difference in total emission with t-test\n",
    "\n",
    "\n",
    "# data for Actuated, Diff Waiting Time, Average Speed, and Queue\n",
    "actuated_data = np.array(df['totalCO2Emission'])\n",
    "diff_waiting_time_data = np.array(waitingTime_total['system_total_CO2'])\n",
    "average_speed_data = np.array(speed_total['system_total_CO2'])\n",
    "queue_data = np.array(queue_total['system_total_CO2'])\n",
    "\n",
    "# significance level (alpha)\n",
    "alpha = 0.05\n",
    "\n",
    "# Perform t-tests for Actuated vs. Diff Waiting Time, Average Speed, and Queue\n",
    "t_statistic_dw, p_value_dw = stats.ttest_ind(actuated_data, diff_waiting_time_data)\n",
    "t_statistic_as, p_value_as = stats.ttest_ind(actuated_data, average_speed_data)\n",
    "t_statistic_q, p_value_q = stats.ttest_ind(actuated_data, queue_data)\n",
    "\n",
    "# Compare p-values to alpha and print the results\n",
    "if p_value_dw < alpha:\n",
    "    print(\"Reject the null hypothesis for Actuated vs. Diff Waiting Time.\")\n",
    "else:\n",
    "    print(\"Fail to reject the null hypothesis for Actuated vs. Diff Waiting Time.\")\n",
    "\n",
    "if p_value_as < alpha:\n",
    "    print(\"Reject the null hypothesis for Actuated vs. Average Speed.\")\n",
    "else:\n",
    "    print(\"Fail to reject the null hypothesis for Actuated vs. Average Speed.\")\n",
    "\n",
    "if p_value_q < alpha:\n",
    "    print(\"Reject the null hypothesis for Actuated vs. Queue.\")\n",
    "else:\n",
    "    print(\"Fail to reject the null hypothesis for Actuated vs. Queue.\")\n",
    "\n",
    "print(\"T-statistics and p-values:\")\n",
    "print(f\"Actuated vs. Diff Waiting Time - t-statistic: {t_statistic_dw}, p-value: {p_value_dw}\")\n",
    "print(f\"Actuated vs. Average Speed - t-statistic: {t_statistic_as}, p-value: {p_value_as}\")\n",
    "print(f\"Actuated vs. Queue - t-statistic: {t_statistic_q}, p-value: {p_value_q}\")"
   ]
  },
  {
   "cell_type": "code",
   "execution_count": 68,
   "metadata": {
    "pycharm": {
     "name": "#%%\n"
    }
   },
   "outputs": [
    {
     "name": "stdout",
     "output_type": "stream",
     "text": [
      "Reject the null hypothesis for Actuated vs. Diff Waiting Time (Mann-Whitney U Test).\n",
      "Reject the null hypothesis for Actuated vs. Average Speed (Mann-Whitney U Test).\n",
      "Reject the null hypothesis for Actuated vs. Queue (Mann-Whitney U Test).\n",
      "Mann-Whitney U Test statistics and p-values:\n",
      "Actuated vs. Diff Waiting Time - U statistic: 43155201.0, p-value: 3.620045554204594e-20\n",
      "Actuated vs. Average Speed - U statistic: 42457722.0, p-value: 6.38925943834048e-13\n",
      "Actuated vs. Queue - U statistic: 41727374.0, p-value: 3.85279145800054e-07\n"
     ]
    }
   ],
   "source": [
    "import numpy as np\n",
    "from scipy.stats import mannwhitneyu\n",
    "\n",
    "# data for Actuated, Diff Waiting Time, Average Speed, and Queue\n",
    "actuated_data = np.array(df['totalCO2Emission'])\n",
    "diff_waiting_time_data = np.array(waitingTime_total['system_total_CO2'])\n",
    "average_speed_data = np.array(speed_total['system_total_CO2'])\n",
    "queue_data = np.array(queue_total['system_total_CO2'])\n",
    "\n",
    "# Define the significance level (alpha)\n",
    "alpha = 0.05\n",
    "\n",
    "# Perform Mann-Whitney U test for Actuated vs. Diff Waiting Time\n",
    "statistic_dw, p_value_dw = mannwhitneyu(actuated_data, diff_waiting_time_data, alternative='two-sided')\n",
    "\n",
    "# Perform Mann-Whitney U test for Actuated vs. Average Speed\n",
    "statistic_as, p_value_as = mannwhitneyu(actuated_data, average_speed_data, alternative='two-sided')\n",
    "\n",
    "# Perform Mann-Whitney U test for Actuated vs. Queue\n",
    "statistic_q, p_value_q = mannwhitneyu(actuated_data, queue_data, alternative='two-sided')\n",
    "\n",
    "# Compare p-values to alpha and print the results\n",
    "if p_value_dw < alpha:\n",
    "    print(\"Reject the null hypothesis for Actuated vs. Diff Waiting Time (Mann-Whitney U Test).\")\n",
    "else:\n",
    "    print(\"Fail to reject the null hypothesis for Actuated vs. Diff Waiting Time (Mann-Whitney U Test).\")\n",
    "\n",
    "if p_value_as < alpha:\n",
    "    print(\"Reject the null hypothesis for Actuated vs. Average Speed (Mann-Whitney U Test).\")\n",
    "else:\n",
    "    print(\"Fail to reject the null hypothesis for Actuated vs. Average Speed (Mann-Whitney U Test).\")\n",
    "\n",
    "if p_value_q < alpha:\n",
    "    print(\"Reject the null hypothesis for Actuated vs. Queue (Mann-Whitney U Test).\")\n",
    "else:\n",
    "    print(\"Fail to reject the null hypothesis for Actuated vs. Queue (Mann-Whitney U Test).\")\n",
    "\n",
    "# Print the Mann-Whitney U test statistics and p-values for reference\n",
    "print(\"Mann-Whitney U Test statistics and p-values:\")\n",
    "print(f\"Actuated vs. Diff Waiting Time - U statistic: {statistic_dw}, p-value: {p_value_dw}\")\n",
    "print(f\"Actuated vs. Average Speed - U statistic: {statistic_as}, p-value: {p_value_as}\")\n",
    "print(f\"Actuated vs. Queue - U statistic: {statistic_q}, p-value: {p_value_q}\")\n"
   ]
  },
  {
   "cell_type": "markdown",
   "metadata": {
    "pycharm": {
     "name": "#%% md\n"
    }
   },
   "source": [
    "#### Get Local Emission Info"
   ]
  },
  {
   "cell_type": "code",
   "execution_count": 161,
   "metadata": {
    "pycharm": {
     "name": "#%%\n"
    }
   },
   "outputs": [
    {
     "name": "stdout",
     "output_type": "stream",
     "text": [
      "Queue\n",
      "localCO2Emission          133826.399346\n",
      "localCOEmission             3977.022517\n",
      "localHCEmission               21.415695\n",
      "localPMxEmission              21.570812\n",
      "localNOxEmission             806.669184\n",
      "localNoiseEmission           457.479658\n",
      "local_fuel_consumption     42382.136710\n",
      "dtype: float64\n"
     ]
    }
   ],
   "source": [
    "print('Queue')\n",
    "print(queue_eval[['localCO2Emission','localCOEmission','localHCEmission','localPMxEmission','localNOxEmission','localNoiseEmission', 'local_fuel_consumption']].mean())"
   ]
  },
  {
   "cell_type": "code",
   "execution_count": 147,
   "metadata": {
    "pycharm": {
     "name": "#%%\n"
    }
   },
   "outputs": [
    {
     "name": "stderr",
     "output_type": "stream",
     "text": [
      "/var/folders/45/67c621jx4zd38ksd1pb9g15h0000gn/T/ipykernel_84036/1741793804.py:1: FutureWarning: The default value of numeric_only in DataFrameGroupBy.mean is deprecated. In a future version, numeric_only will default to False. Either specify numeric_only or select only columns which should be valid for the function.\n",
      "  queue_eval.groupby('episode').mean()\n"
     ]
    },
    {
     "data": {
      "text/html": [
       "<div>\n",
       "<style scoped>\n",
       "    .dataframe tbody tr th:only-of-type {\n",
       "        vertical-align: middle;\n",
       "    }\n",
       "\n",
       "    .dataframe tbody tr th {\n",
       "        vertical-align: top;\n",
       "    }\n",
       "\n",
       "    .dataframe thead th {\n",
       "        text-align: right;\n",
       "    }\n",
       "</style>\n",
       "<table border=\"1\" class=\"dataframe\">\n",
       "  <thead>\n",
       "    <tr style=\"text-align: right;\">\n",
       "      <th></th>\n",
       "      <th>num_vehicles</th>\n",
       "      <th>avg_speed</th>\n",
       "      <th>localCO2Emission</th>\n",
       "      <th>localCOEmission</th>\n",
       "      <th>localHCEmission</th>\n",
       "      <th>localPMxEmission</th>\n",
       "      <th>localNOxEmission</th>\n",
       "      <th>local_fuel_consumption</th>\n",
       "      <th>localNoiseEmission</th>\n",
       "      <th>localWaitingTime</th>\n",
       "      <th>localStoppedVehicles</th>\n",
       "      <th>tls159_phase</th>\n",
       "      <th>tls159_phase_duration</th>\n",
       "      <th>tls160_phase</th>\n",
       "      <th>tls160_phase_duration</th>\n",
       "      <th>tls161_phase</th>\n",
       "      <th>tls161_phase_duration</th>\n",
       "    </tr>\n",
       "    <tr>\n",
       "      <th>episode</th>\n",
       "      <th></th>\n",
       "      <th></th>\n",
       "      <th></th>\n",
       "      <th></th>\n",
       "      <th></th>\n",
       "      <th></th>\n",
       "      <th></th>\n",
       "      <th></th>\n",
       "      <th></th>\n",
       "      <th></th>\n",
       "      <th></th>\n",
       "      <th></th>\n",
       "      <th></th>\n",
       "      <th></th>\n",
       "      <th></th>\n",
       "      <th></th>\n",
       "      <th></th>\n",
       "    </tr>\n",
       "  </thead>\n",
       "  <tbody>\n",
       "    <tr>\n",
       "      <th>1</th>\n",
       "      <td>41.233408</td>\n",
       "      <td>1.286126</td>\n",
       "      <td>154055.558411</td>\n",
       "      <td>4425.771579</td>\n",
       "      <td>23.004139</td>\n",
       "      <td>25.412531</td>\n",
       "      <td>956.056589</td>\n",
       "      <td>48776.976519</td>\n",
       "      <td>462.821850</td>\n",
       "      <td>8561.864454</td>\n",
       "      <td>36.113611</td>\n",
       "      <td>0.0</td>\n",
       "      <td>1.0</td>\n",
       "      <td>0.0</td>\n",
       "      <td>1.0</td>\n",
       "      <td>0.0</td>\n",
       "      <td>1.0</td>\n",
       "    </tr>\n",
       "    <tr>\n",
       "      <th>2</th>\n",
       "      <td>42.825745</td>\n",
       "      <td>1.136250</td>\n",
       "      <td>141784.545504</td>\n",
       "      <td>4553.541220</td>\n",
       "      <td>26.939181</td>\n",
       "      <td>21.565981</td>\n",
       "      <td>793.306885</td>\n",
       "      <td>44933.979846</td>\n",
       "      <td>529.777008</td>\n",
       "      <td>6331.442945</td>\n",
       "      <td>38.195053</td>\n",
       "      <td>0.0</td>\n",
       "      <td>1.0</td>\n",
       "      <td>0.0</td>\n",
       "      <td>1.0</td>\n",
       "      <td>0.0</td>\n",
       "      <td>1.0</td>\n",
       "    </tr>\n",
       "    <tr>\n",
       "      <th>3</th>\n",
       "      <td>30.691962</td>\n",
       "      <td>1.340007</td>\n",
       "      <td>112339.437108</td>\n",
       "      <td>3443.777528</td>\n",
       "      <td>17.447854</td>\n",
       "      <td>17.489841</td>\n",
       "      <td>655.689425</td>\n",
       "      <td>35582.582410</td>\n",
       "      <td>378.476891</td>\n",
       "      <td>4427.275998</td>\n",
       "      <td>25.709949</td>\n",
       "      <td>0.0</td>\n",
       "      <td>1.0</td>\n",
       "      <td>0.0</td>\n",
       "      <td>1.0</td>\n",
       "      <td>0.0</td>\n",
       "      <td>1.0</td>\n",
       "    </tr>\n",
       "    <tr>\n",
       "      <th>4</th>\n",
       "      <td>37.897695</td>\n",
       "      <td>1.293040</td>\n",
       "      <td>132348.039088</td>\n",
       "      <td>3754.872625</td>\n",
       "      <td>20.428523</td>\n",
       "      <td>22.357678</td>\n",
       "      <td>836.098067</td>\n",
       "      <td>41898.127240</td>\n",
       "      <td>491.886462</td>\n",
       "      <td>4866.517707</td>\n",
       "      <td>32.431703</td>\n",
       "      <td>0.0</td>\n",
       "      <td>1.0</td>\n",
       "      <td>0.0</td>\n",
       "      <td>1.0</td>\n",
       "      <td>0.0</td>\n",
       "      <td>1.0</td>\n",
       "    </tr>\n",
       "    <tr>\n",
       "      <th>5</th>\n",
       "      <td>34.004497</td>\n",
       "      <td>1.402142</td>\n",
       "      <td>128615.787703</td>\n",
       "      <td>3707.401883</td>\n",
       "      <td>19.259669</td>\n",
       "      <td>21.030188</td>\n",
       "      <td>792.278929</td>\n",
       "      <td>40722.612162</td>\n",
       "      <td>424.439081</td>\n",
       "      <td>4829.463744</td>\n",
       "      <td>29.151771</td>\n",
       "      <td>0.0</td>\n",
       "      <td>1.0</td>\n",
       "      <td>0.0</td>\n",
       "      <td>1.0</td>\n",
       "      <td>0.0</td>\n",
       "      <td>1.0</td>\n",
       "    </tr>\n",
       "  </tbody>\n",
       "</table>\n",
       "</div>"
      ],
      "text/plain": [
       "         num_vehicles  avg_speed  localCO2Emission  localCOEmission  \\\n",
       "episode                                                               \n",
       "1           41.233408   1.286126     154055.558411      4425.771579   \n",
       "2           42.825745   1.136250     141784.545504      4553.541220   \n",
       "3           30.691962   1.340007     112339.437108      3443.777528   \n",
       "4           37.897695   1.293040     132348.039088      3754.872625   \n",
       "5           34.004497   1.402142     128615.787703      3707.401883   \n",
       "\n",
       "         localHCEmission  localPMxEmission  localNOxEmission  \\\n",
       "episode                                                        \n",
       "1              23.004139         25.412531        956.056589   \n",
       "2              26.939181         21.565981        793.306885   \n",
       "3              17.447854         17.489841        655.689425   \n",
       "4              20.428523         22.357678        836.098067   \n",
       "5              19.259669         21.030188        792.278929   \n",
       "\n",
       "         local_fuel_consumption  localNoiseEmission  localWaitingTime  \\\n",
       "episode                                                                 \n",
       "1                  48776.976519          462.821850       8561.864454   \n",
       "2                  44933.979846          529.777008       6331.442945   \n",
       "3                  35582.582410          378.476891       4427.275998   \n",
       "4                  41898.127240          491.886462       4866.517707   \n",
       "5                  40722.612162          424.439081       4829.463744   \n",
       "\n",
       "         localStoppedVehicles  tls159_phase  tls159_phase_duration  \\\n",
       "episode                                                              \n",
       "1                   36.113611           0.0                    1.0   \n",
       "2                   38.195053           0.0                    1.0   \n",
       "3                   25.709949           0.0                    1.0   \n",
       "4                   32.431703           0.0                    1.0   \n",
       "5                   29.151771           0.0                    1.0   \n",
       "\n",
       "         tls160_phase  tls160_phase_duration  tls161_phase  \\\n",
       "episode                                                      \n",
       "1                 0.0                    1.0           0.0   \n",
       "2                 0.0                    1.0           0.0   \n",
       "3                 0.0                    1.0           0.0   \n",
       "4                 0.0                    1.0           0.0   \n",
       "5                 0.0                    1.0           0.0   \n",
       "\n",
       "         tls161_phase_duration  \n",
       "episode                         \n",
       "1                          1.0  \n",
       "2                          1.0  \n",
       "3                          1.0  \n",
       "4                          1.0  \n",
       "5                          1.0  "
      ]
     },
     "execution_count": 147,
     "metadata": {},
     "output_type": "execute_result"
    }
   ],
   "source": [
    "queue_eval.groupby('episode').mean()"
   ]
  },
  {
   "cell_type": "code",
   "execution_count": 145,
   "metadata": {
    "pycharm": {
     "name": "#%%\n"
    }
   },
   "outputs": [
    {
     "name": "stdout",
     "output_type": "stream",
     "text": [
      "Average Speed\n",
      "localCO2Emission          135901.950288\n",
      "localCOEmission             3693.659587\n",
      "localHCEmission               18.833195\n",
      "localPMxEmission              23.061042\n",
      "localNOxEmission             872.524854\n",
      "localNoiseEmission           411.184573\n",
      "local_fuel_consumption     43016.268308\n",
      "dtype: float64\n"
     ]
    }
   ],
   "source": [
    "print('Average Speed')\n",
    "print(speed_eval[['localCO2Emission','localCOEmission','localHCEmission','localPMxEmission','localNOxEmission','localNoiseEmission', 'local_fuel_consumption']].mean())\n"
   ]
  },
  {
   "cell_type": "code",
   "execution_count": 146,
   "metadata": {
    "pycharm": {
     "name": "#%%\n"
    }
   },
   "outputs": [
    {
     "name": "stderr",
     "output_type": "stream",
     "text": [
      "/var/folders/45/67c621jx4zd38ksd1pb9g15h0000gn/T/ipykernel_84036/968340222.py:1: FutureWarning: The default value of numeric_only in DataFrameGroupBy.mean is deprecated. In a future version, numeric_only will default to False. Either specify numeric_only or select only columns which should be valid for the function.\n",
      "  speed_eval.groupby('episode').mean()\n"
     ]
    },
    {
     "data": {
      "text/html": [
       "<div>\n",
       "<style scoped>\n",
       "    .dataframe tbody tr th:only-of-type {\n",
       "        vertical-align: middle;\n",
       "    }\n",
       "\n",
       "    .dataframe tbody tr th {\n",
       "        vertical-align: top;\n",
       "    }\n",
       "\n",
       "    .dataframe thead th {\n",
       "        text-align: right;\n",
       "    }\n",
       "</style>\n",
       "<table border=\"1\" class=\"dataframe\">\n",
       "  <thead>\n",
       "    <tr style=\"text-align: right;\">\n",
       "      <th></th>\n",
       "      <th>num_vehicles</th>\n",
       "      <th>avg_speed</th>\n",
       "      <th>localCO2Emission</th>\n",
       "      <th>localCOEmission</th>\n",
       "      <th>localHCEmission</th>\n",
       "      <th>localPMxEmission</th>\n",
       "      <th>localNOxEmission</th>\n",
       "      <th>local_fuel_consumption</th>\n",
       "      <th>localNoiseEmission</th>\n",
       "      <th>localWaitingTime</th>\n",
       "      <th>localStoppedVehicles</th>\n",
       "      <th>tls159_phase</th>\n",
       "      <th>tls159_phase_duration</th>\n",
       "      <th>tls160_phase</th>\n",
       "      <th>tls160_phase_duration</th>\n",
       "      <th>tls161_phase</th>\n",
       "      <th>tls161_phase_duration</th>\n",
       "    </tr>\n",
       "    <tr>\n",
       "      <th>episode</th>\n",
       "      <th></th>\n",
       "      <th></th>\n",
       "      <th></th>\n",
       "      <th></th>\n",
       "      <th></th>\n",
       "      <th></th>\n",
       "      <th></th>\n",
       "      <th></th>\n",
       "      <th></th>\n",
       "      <th></th>\n",
       "      <th></th>\n",
       "      <th></th>\n",
       "      <th></th>\n",
       "      <th></th>\n",
       "      <th></th>\n",
       "      <th></th>\n",
       "      <th></th>\n",
       "    </tr>\n",
       "  </thead>\n",
       "  <tbody>\n",
       "    <tr>\n",
       "      <th>1</th>\n",
       "      <td>35.781900</td>\n",
       "      <td>1.374325</td>\n",
       "      <td>135112.200370</td>\n",
       "      <td>3955.326622</td>\n",
       "      <td>20.197099</td>\n",
       "      <td>21.857540</td>\n",
       "      <td>822.920049</td>\n",
       "      <td>42783.412363</td>\n",
       "      <td>424.491392</td>\n",
       "      <td>4716.500843</td>\n",
       "      <td>30.550309</td>\n",
       "      <td>0.0</td>\n",
       "      <td>1.0</td>\n",
       "      <td>0.0</td>\n",
       "      <td>1.0</td>\n",
       "      <td>0.0</td>\n",
       "      <td>1.0</td>\n",
       "    </tr>\n",
       "    <tr>\n",
       "      <th>2</th>\n",
       "      <td>31.345700</td>\n",
       "      <td>1.380231</td>\n",
       "      <td>118656.369602</td>\n",
       "      <td>3524.401324</td>\n",
       "      <td>17.865706</td>\n",
       "      <td>18.290689</td>\n",
       "      <td>692.220785</td>\n",
       "      <td>37583.718696</td>\n",
       "      <td>366.136087</td>\n",
       "      <td>2879.105677</td>\n",
       "      <td>25.722316</td>\n",
       "      <td>0.0</td>\n",
       "      <td>1.0</td>\n",
       "      <td>0.0</td>\n",
       "      <td>1.0</td>\n",
       "      <td>0.0</td>\n",
       "      <td>1.0</td>\n",
       "    </tr>\n",
       "    <tr>\n",
       "      <th>3</th>\n",
       "      <td>39.585160</td>\n",
       "      <td>1.115344</td>\n",
       "      <td>163920.454845</td>\n",
       "      <td>4188.963581</td>\n",
       "      <td>21.670740</td>\n",
       "      <td>29.867622</td>\n",
       "      <td>1126.274587</td>\n",
       "      <td>51859.740901</td>\n",
       "      <td>454.915532</td>\n",
       "      <td>8723.234401</td>\n",
       "      <td>35.407532</td>\n",
       "      <td>0.0</td>\n",
       "      <td>1.0</td>\n",
       "      <td>0.0</td>\n",
       "      <td>1.0</td>\n",
       "      <td>0.0</td>\n",
       "      <td>1.0</td>\n",
       "    </tr>\n",
       "    <tr>\n",
       "      <th>4</th>\n",
       "      <td>29.509551</td>\n",
       "      <td>1.380451</td>\n",
       "      <td>118778.630456</td>\n",
       "      <td>3100.744143</td>\n",
       "      <td>15.625297</td>\n",
       "      <td>20.156023</td>\n",
       "      <td>768.164246</td>\n",
       "      <td>37592.046346</td>\n",
       "      <td>377.557930</td>\n",
       "      <td>2998.084270</td>\n",
       "      <td>24.196629</td>\n",
       "      <td>0.0</td>\n",
       "      <td>1.0</td>\n",
       "      <td>0.0</td>\n",
       "      <td>1.0</td>\n",
       "      <td>0.0</td>\n",
       "      <td>1.0</td>\n",
       "    </tr>\n",
       "    <tr>\n",
       "      <th>5</th>\n",
       "      <td>35.293820</td>\n",
       "      <td>1.344145</td>\n",
       "      <td>143047.704693</td>\n",
       "      <td>3699.192441</td>\n",
       "      <td>18.808951</td>\n",
       "      <td>25.133804</td>\n",
       "      <td>953.057999</td>\n",
       "      <td>45264.208667</td>\n",
       "      <td>432.828660</td>\n",
       "      <td>8935.494944</td>\n",
       "      <td>29.644944</td>\n",
       "      <td>0.0</td>\n",
       "      <td>1.0</td>\n",
       "      <td>0.0</td>\n",
       "      <td>1.0</td>\n",
       "      <td>0.0</td>\n",
       "      <td>1.0</td>\n",
       "    </tr>\n",
       "  </tbody>\n",
       "</table>\n",
       "</div>"
      ],
      "text/plain": [
       "         num_vehicles  avg_speed  localCO2Emission  localCOEmission  \\\n",
       "episode                                                               \n",
       "1           35.781900   1.374325     135112.200370      3955.326622   \n",
       "2           31.345700   1.380231     118656.369602      3524.401324   \n",
       "3           39.585160   1.115344     163920.454845      4188.963581   \n",
       "4           29.509551   1.380451     118778.630456      3100.744143   \n",
       "5           35.293820   1.344145     143047.704693      3699.192441   \n",
       "\n",
       "         localHCEmission  localPMxEmission  localNOxEmission  \\\n",
       "episode                                                        \n",
       "1              20.197099         21.857540        822.920049   \n",
       "2              17.865706         18.290689        692.220785   \n",
       "3              21.670740         29.867622       1126.274587   \n",
       "4              15.625297         20.156023        768.164246   \n",
       "5              18.808951         25.133804        953.057999   \n",
       "\n",
       "         local_fuel_consumption  localNoiseEmission  localWaitingTime  \\\n",
       "episode                                                                 \n",
       "1                  42783.412363          424.491392       4716.500843   \n",
       "2                  37583.718696          366.136087       2879.105677   \n",
       "3                  51859.740901          454.915532       8723.234401   \n",
       "4                  37592.046346          377.557930       2998.084270   \n",
       "5                  45264.208667          432.828660       8935.494944   \n",
       "\n",
       "         localStoppedVehicles  tls159_phase  tls159_phase_duration  \\\n",
       "episode                                                              \n",
       "1                   30.550309           0.0                    1.0   \n",
       "2                   25.722316           0.0                    1.0   \n",
       "3                   35.407532           0.0                    1.0   \n",
       "4                   24.196629           0.0                    1.0   \n",
       "5                   29.644944           0.0                    1.0   \n",
       "\n",
       "         tls160_phase  tls160_phase_duration  tls161_phase  \\\n",
       "episode                                                      \n",
       "1                 0.0                    1.0           0.0   \n",
       "2                 0.0                    1.0           0.0   \n",
       "3                 0.0                    1.0           0.0   \n",
       "4                 0.0                    1.0           0.0   \n",
       "5                 0.0                    1.0           0.0   \n",
       "\n",
       "         tls161_phase_duration  \n",
       "episode                         \n",
       "1                          1.0  \n",
       "2                          1.0  \n",
       "3                          1.0  \n",
       "4                          1.0  \n",
       "5                          1.0  "
      ]
     },
     "execution_count": 146,
     "metadata": {},
     "output_type": "execute_result"
    }
   ],
   "source": [
    "speed_eval.groupby('episode').mean()"
   ]
  },
  {
   "cell_type": "code",
   "execution_count": 160,
   "metadata": {
    "pycharm": {
     "name": "#%%\n"
    }
   },
   "outputs": [
    {
     "name": "stdout",
     "output_type": "stream",
     "text": [
      "Wait Time 200\n",
      "localCO2Emission          122944.015714\n",
      "localCOEmission             3931.759568\n",
      "localHCEmission               20.244416\n",
      "localPMxEmission              18.340119\n",
      "localNOxEmission             685.593498\n",
      "localNoiseEmission           425.919802\n",
      "local_fuel_consumption     38954.612006\n",
      "dtype: float64\n"
     ]
    }
   ],
   "source": [
    "print('Wait Time 200')\n",
    "print(waitTime_200_eval[['localCO2Emission','localCOEmission','localHCEmission','localPMxEmission','localNOxEmission','localNoiseEmission', 'local_fuel_consumption']].mean())\n"
   ]
  },
  {
   "cell_type": "code",
   "execution_count": 153,
   "metadata": {
    "pycharm": {
     "name": "#%%\n"
    }
   },
   "outputs": [
    {
     "name": "stderr",
     "output_type": "stream",
     "text": [
      "/var/folders/45/67c621jx4zd38ksd1pb9g15h0000gn/T/ipykernel_84036/4125885268.py:1: FutureWarning: The default value of numeric_only in DataFrameGroupBy.mean is deprecated. In a future version, numeric_only will default to False. Either specify numeric_only or select only columns which should be valid for the function.\n",
      "  waitTime_200_eval.groupby('episode').mean()\n"
     ]
    },
    {
     "data": {
      "text/html": [
       "<div>\n",
       "<style scoped>\n",
       "    .dataframe tbody tr th:only-of-type {\n",
       "        vertical-align: middle;\n",
       "    }\n",
       "\n",
       "    .dataframe tbody tr th {\n",
       "        vertical-align: top;\n",
       "    }\n",
       "\n",
       "    .dataframe thead th {\n",
       "        text-align: right;\n",
       "    }\n",
       "</style>\n",
       "<table border=\"1\" class=\"dataframe\">\n",
       "  <thead>\n",
       "    <tr style=\"text-align: right;\">\n",
       "      <th></th>\n",
       "      <th>num_vehicles</th>\n",
       "      <th>avg_speed</th>\n",
       "      <th>localCO2Emission</th>\n",
       "      <th>localCOEmission</th>\n",
       "      <th>localHCEmission</th>\n",
       "      <th>localPMxEmission</th>\n",
       "      <th>localNOxEmission</th>\n",
       "      <th>local_fuel_consumption</th>\n",
       "      <th>localNoiseEmission</th>\n",
       "      <th>localWaitingTime</th>\n",
       "      <th>localStoppedVehicles</th>\n",
       "      <th>tls159_phase</th>\n",
       "      <th>tls159_phase_duration</th>\n",
       "      <th>tls160_phase</th>\n",
       "      <th>tls160_phase_duration</th>\n",
       "      <th>tls161_phase</th>\n",
       "      <th>tls161_phase_duration</th>\n",
       "    </tr>\n",
       "    <tr>\n",
       "      <th>episode</th>\n",
       "      <th></th>\n",
       "      <th></th>\n",
       "      <th></th>\n",
       "      <th></th>\n",
       "      <th></th>\n",
       "      <th></th>\n",
       "      <th></th>\n",
       "      <th></th>\n",
       "      <th></th>\n",
       "      <th></th>\n",
       "      <th></th>\n",
       "      <th></th>\n",
       "      <th></th>\n",
       "      <th></th>\n",
       "      <th></th>\n",
       "      <th></th>\n",
       "      <th></th>\n",
       "    </tr>\n",
       "  </thead>\n",
       "  <tbody>\n",
       "    <tr>\n",
       "      <th>1</th>\n",
       "      <td>34.684624</td>\n",
       "      <td>1.214307</td>\n",
       "      <td>117864.853709</td>\n",
       "      <td>4327.470942</td>\n",
       "      <td>21.821512</td>\n",
       "      <td>15.249333</td>\n",
       "      <td>561.665204</td>\n",
       "      <td>37382.702803</td>\n",
       "      <td>421.226947</td>\n",
       "      <td>5301.475870</td>\n",
       "      <td>29.464085</td>\n",
       "      <td>0.0</td>\n",
       "      <td>1.0</td>\n",
       "      <td>0.0</td>\n",
       "      <td>1.0</td>\n",
       "      <td>0.0</td>\n",
       "      <td>1.0</td>\n",
       "    </tr>\n",
       "    <tr>\n",
       "      <th>2</th>\n",
       "      <td>31.823793</td>\n",
       "      <td>1.332558</td>\n",
       "      <td>124881.762945</td>\n",
       "      <td>3420.280283</td>\n",
       "      <td>17.961714</td>\n",
       "      <td>20.378254</td>\n",
       "      <td>775.243490</td>\n",
       "      <td>39536.467563</td>\n",
       "      <td>416.337835</td>\n",
       "      <td>2947.194164</td>\n",
       "      <td>25.951178</td>\n",
       "      <td>0.0</td>\n",
       "      <td>1.0</td>\n",
       "      <td>0.0</td>\n",
       "      <td>1.0</td>\n",
       "      <td>0.0</td>\n",
       "      <td>1.0</td>\n",
       "    </tr>\n",
       "    <tr>\n",
       "      <th>3</th>\n",
       "      <td>29.157127</td>\n",
       "      <td>1.346874</td>\n",
       "      <td>106134.287222</td>\n",
       "      <td>3335.044394</td>\n",
       "      <td>17.051525</td>\n",
       "      <td>15.551846</td>\n",
       "      <td>587.089616</td>\n",
       "      <td>33627.814151</td>\n",
       "      <td>370.599793</td>\n",
       "      <td>3353.361392</td>\n",
       "      <td>23.960718</td>\n",
       "      <td>0.0</td>\n",
       "      <td>1.0</td>\n",
       "      <td>0.0</td>\n",
       "      <td>1.0</td>\n",
       "      <td>0.0</td>\n",
       "      <td>1.0</td>\n",
       "    </tr>\n",
       "    <tr>\n",
       "      <th>4</th>\n",
       "      <td>40.199214</td>\n",
       "      <td>1.125883</td>\n",
       "      <td>145928.853949</td>\n",
       "      <td>4683.824568</td>\n",
       "      <td>24.284700</td>\n",
       "      <td>22.900630</td>\n",
       "      <td>846.322058</td>\n",
       "      <td>46228.723401</td>\n",
       "      <td>486.970787</td>\n",
       "      <td>7712.305836</td>\n",
       "      <td>35.239057</td>\n",
       "      <td>0.0</td>\n",
       "      <td>1.0</td>\n",
       "      <td>0.0</td>\n",
       "      <td>1.0</td>\n",
       "      <td>0.0</td>\n",
       "      <td>1.0</td>\n",
       "    </tr>\n",
       "    <tr>\n",
       "      <th>5</th>\n",
       "      <td>34.284512</td>\n",
       "      <td>1.346529</td>\n",
       "      <td>119910.320743</td>\n",
       "      <td>3892.177650</td>\n",
       "      <td>20.102629</td>\n",
       "      <td>17.620531</td>\n",
       "      <td>657.647121</td>\n",
       "      <td>37997.352113</td>\n",
       "      <td>434.463648</td>\n",
       "      <td>5659.862514</td>\n",
       "      <td>28.879910</td>\n",
       "      <td>0.0</td>\n",
       "      <td>1.0</td>\n",
       "      <td>0.0</td>\n",
       "      <td>1.0</td>\n",
       "      <td>0.0</td>\n",
       "      <td>1.0</td>\n",
       "    </tr>\n",
       "  </tbody>\n",
       "</table>\n",
       "</div>"
      ],
      "text/plain": [
       "         num_vehicles  avg_speed  localCO2Emission  localCOEmission  \\\n",
       "episode                                                               \n",
       "1           34.684624   1.214307     117864.853709      4327.470942   \n",
       "2           31.823793   1.332558     124881.762945      3420.280283   \n",
       "3           29.157127   1.346874     106134.287222      3335.044394   \n",
       "4           40.199214   1.125883     145928.853949      4683.824568   \n",
       "5           34.284512   1.346529     119910.320743      3892.177650   \n",
       "\n",
       "         localHCEmission  localPMxEmission  localNOxEmission  \\\n",
       "episode                                                        \n",
       "1              21.821512         15.249333        561.665204   \n",
       "2              17.961714         20.378254        775.243490   \n",
       "3              17.051525         15.551846        587.089616   \n",
       "4              24.284700         22.900630        846.322058   \n",
       "5              20.102629         17.620531        657.647121   \n",
       "\n",
       "         local_fuel_consumption  localNoiseEmission  localWaitingTime  \\\n",
       "episode                                                                 \n",
       "1                  37382.702803          421.226947       5301.475870   \n",
       "2                  39536.467563          416.337835       2947.194164   \n",
       "3                  33627.814151          370.599793       3353.361392   \n",
       "4                  46228.723401          486.970787       7712.305836   \n",
       "5                  37997.352113          434.463648       5659.862514   \n",
       "\n",
       "         localStoppedVehicles  tls159_phase  tls159_phase_duration  \\\n",
       "episode                                                              \n",
       "1                   29.464085           0.0                    1.0   \n",
       "2                   25.951178           0.0                    1.0   \n",
       "3                   23.960718           0.0                    1.0   \n",
       "4                   35.239057           0.0                    1.0   \n",
       "5                   28.879910           0.0                    1.0   \n",
       "\n",
       "         tls160_phase  tls160_phase_duration  tls161_phase  \\\n",
       "episode                                                      \n",
       "1                 0.0                    1.0           0.0   \n",
       "2                 0.0                    1.0           0.0   \n",
       "3                 0.0                    1.0           0.0   \n",
       "4                 0.0                    1.0           0.0   \n",
       "5                 0.0                    1.0           0.0   \n",
       "\n",
       "         tls161_phase_duration  \n",
       "episode                         \n",
       "1                          1.0  \n",
       "2                          1.0  \n",
       "3                          1.0  \n",
       "4                          1.0  \n",
       "5                          1.0  "
      ]
     },
     "execution_count": 153,
     "metadata": {},
     "output_type": "execute_result"
    }
   ],
   "source": [
    "waitTime_200_eval.groupby('episode').mean()"
   ]
  },
  {
   "cell_type": "code",
   "execution_count": 163,
   "metadata": {
    "pycharm": {
     "name": "#%%\n"
    }
   },
   "outputs": [
    {
     "name": "stdout",
     "output_type": "stream",
     "text": [
      "Wait Time 400\n",
      "localCO2Emission          144625.405660\n",
      "localCOEmission             4256.799962\n",
      "localHCEmission               22.807803\n",
      "localPMxEmission              23.303580\n",
      "localNOxEmission             873.634615\n",
      "localNoiseEmission           485.906333\n",
      "local_fuel_consumption     45800.788922\n",
      "dtype: float64\n"
     ]
    }
   ],
   "source": [
    "print('Wait Time 400')\n",
    "print(waitTime_400_eval[['localCO2Emission','localCOEmission','localHCEmission','localPMxEmission','localNOxEmission','localNoiseEmission', 'local_fuel_consumption']].mean())"
   ]
  },
  {
   "cell_type": "code",
   "execution_count": 155,
   "metadata": {
    "pycharm": {
     "name": "#%%\n"
    }
   },
   "outputs": [
    {
     "name": "stderr",
     "output_type": "stream",
     "text": [
      "/var/folders/45/67c621jx4zd38ksd1pb9g15h0000gn/T/ipykernel_84036/2192217393.py:1: FutureWarning: The default value of numeric_only in DataFrameGroupBy.mean is deprecated. In a future version, numeric_only will default to False. Either specify numeric_only or select only columns which should be valid for the function.\n",
      "  waitTime_400_eval.groupby('episode').mean()\n"
     ]
    },
    {
     "data": {
      "text/html": [
       "<div>\n",
       "<style scoped>\n",
       "    .dataframe tbody tr th:only-of-type {\n",
       "        vertical-align: middle;\n",
       "    }\n",
       "\n",
       "    .dataframe tbody tr th {\n",
       "        vertical-align: top;\n",
       "    }\n",
       "\n",
       "    .dataframe thead th {\n",
       "        text-align: right;\n",
       "    }\n",
       "</style>\n",
       "<table border=\"1\" class=\"dataframe\">\n",
       "  <thead>\n",
       "    <tr style=\"text-align: right;\">\n",
       "      <th></th>\n",
       "      <th>num_vehicles</th>\n",
       "      <th>avg_speed</th>\n",
       "      <th>localCO2Emission</th>\n",
       "      <th>localCOEmission</th>\n",
       "      <th>localHCEmission</th>\n",
       "      <th>localPMxEmission</th>\n",
       "      <th>localNOxEmission</th>\n",
       "      <th>local_fuel_consumption</th>\n",
       "      <th>localNoiseEmission</th>\n",
       "      <th>localWaitingTime</th>\n",
       "      <th>localStoppedVehicles</th>\n",
       "      <th>tls159_phase</th>\n",
       "      <th>tls159_phase_duration</th>\n",
       "      <th>tls160_phase</th>\n",
       "      <th>tls160_phase_duration</th>\n",
       "      <th>tls161_phase</th>\n",
       "      <th>tls161_phase_duration</th>\n",
       "    </tr>\n",
       "    <tr>\n",
       "      <th>episode</th>\n",
       "      <th></th>\n",
       "      <th></th>\n",
       "      <th></th>\n",
       "      <th></th>\n",
       "      <th></th>\n",
       "      <th></th>\n",
       "      <th></th>\n",
       "      <th></th>\n",
       "      <th></th>\n",
       "      <th></th>\n",
       "      <th></th>\n",
       "      <th></th>\n",
       "      <th></th>\n",
       "      <th></th>\n",
       "      <th></th>\n",
       "      <th></th>\n",
       "      <th></th>\n",
       "    </tr>\n",
       "  </thead>\n",
       "  <tbody>\n",
       "    <tr>\n",
       "      <th>1</th>\n",
       "      <td>33.712689</td>\n",
       "      <td>1.283515</td>\n",
       "      <td>125621.825545</td>\n",
       "      <td>3722.921550</td>\n",
       "      <td>19.111616</td>\n",
       "      <td>20.158201</td>\n",
       "      <td>757.286090</td>\n",
       "      <td>39780.024510</td>\n",
       "      <td>422.462424</td>\n",
       "      <td>5029.116825</td>\n",
       "      <td>28.278368</td>\n",
       "      <td>0.0</td>\n",
       "      <td>1.0</td>\n",
       "      <td>0.0</td>\n",
       "      <td>1.0</td>\n",
       "      <td>0.0</td>\n",
       "      <td>1.0</td>\n",
       "    </tr>\n",
       "    <tr>\n",
       "      <th>2</th>\n",
       "      <td>30.256568</td>\n",
       "      <td>1.388339</td>\n",
       "      <td>115123.007808</td>\n",
       "      <td>3269.241107</td>\n",
       "      <td>16.957754</td>\n",
       "      <td>18.289233</td>\n",
       "      <td>695.185154</td>\n",
       "      <td>36452.539582</td>\n",
       "      <td>406.873344</td>\n",
       "      <td>3485.989939</td>\n",
       "      <td>24.468977</td>\n",
       "      <td>0.0</td>\n",
       "      <td>1.0</td>\n",
       "      <td>0.0</td>\n",
       "      <td>1.0</td>\n",
       "      <td>0.0</td>\n",
       "      <td>1.0</td>\n",
       "    </tr>\n",
       "    <tr>\n",
       "      <th>3</th>\n",
       "      <td>38.503356</td>\n",
       "      <td>1.342989</td>\n",
       "      <td>144318.386656</td>\n",
       "      <td>4180.749906</td>\n",
       "      <td>23.067932</td>\n",
       "      <td>23.566866</td>\n",
       "      <td>881.973590</td>\n",
       "      <td>45700.656182</td>\n",
       "      <td>500.432767</td>\n",
       "      <td>3791.969799</td>\n",
       "      <td>32.573826</td>\n",
       "      <td>0.0</td>\n",
       "      <td>1.0</td>\n",
       "      <td>0.0</td>\n",
       "      <td>1.0</td>\n",
       "      <td>0.0</td>\n",
       "      <td>1.0</td>\n",
       "    </tr>\n",
       "    <tr>\n",
       "      <th>4</th>\n",
       "      <td>44.226942</td>\n",
       "      <td>1.159447</td>\n",
       "      <td>174923.914967</td>\n",
       "      <td>4768.691259</td>\n",
       "      <td>25.518932</td>\n",
       "      <td>30.079749</td>\n",
       "      <td>1131.395169</td>\n",
       "      <td>55369.091675</td>\n",
       "      <td>518.479848</td>\n",
       "      <td>8315.096143</td>\n",
       "      <td>38.937395</td>\n",
       "      <td>0.0</td>\n",
       "      <td>1.0</td>\n",
       "      <td>0.0</td>\n",
       "      <td>1.0</td>\n",
       "      <td>0.0</td>\n",
       "      <td>1.0</td>\n",
       "    </tr>\n",
       "    <tr>\n",
       "      <th>5</th>\n",
       "      <td>45.972595</td>\n",
       "      <td>1.200340</td>\n",
       "      <td>163150.076473</td>\n",
       "      <td>5342.960613</td>\n",
       "      <td>29.386602</td>\n",
       "      <td>24.424625</td>\n",
       "      <td>902.353788</td>\n",
       "      <td>51704.876905</td>\n",
       "      <td>581.344748</td>\n",
       "      <td>5325.602908</td>\n",
       "      <td>40.833333</td>\n",
       "      <td>0.0</td>\n",
       "      <td>1.0</td>\n",
       "      <td>0.0</td>\n",
       "      <td>1.0</td>\n",
       "      <td>0.0</td>\n",
       "      <td>1.0</td>\n",
       "    </tr>\n",
       "  </tbody>\n",
       "</table>\n",
       "</div>"
      ],
      "text/plain": [
       "         num_vehicles  avg_speed  localCO2Emission  localCOEmission  \\\n",
       "episode                                                               \n",
       "1           33.712689   1.283515     125621.825545      3722.921550   \n",
       "2           30.256568   1.388339     115123.007808      3269.241107   \n",
       "3           38.503356   1.342989     144318.386656      4180.749906   \n",
       "4           44.226942   1.159447     174923.914967      4768.691259   \n",
       "5           45.972595   1.200340     163150.076473      5342.960613   \n",
       "\n",
       "         localHCEmission  localPMxEmission  localNOxEmission  \\\n",
       "episode                                                        \n",
       "1              19.111616         20.158201        757.286090   \n",
       "2              16.957754         18.289233        695.185154   \n",
       "3              23.067932         23.566866        881.973590   \n",
       "4              25.518932         30.079749       1131.395169   \n",
       "5              29.386602         24.424625        902.353788   \n",
       "\n",
       "         local_fuel_consumption  localNoiseEmission  localWaitingTime  \\\n",
       "episode                                                                 \n",
       "1                  39780.024510          422.462424       5029.116825   \n",
       "2                  36452.539582          406.873344       3485.989939   \n",
       "3                  45700.656182          500.432767       3791.969799   \n",
       "4                  55369.091675          518.479848       8315.096143   \n",
       "5                  51704.876905          581.344748       5325.602908   \n",
       "\n",
       "         localStoppedVehicles  tls159_phase  tls159_phase_duration  \\\n",
       "episode                                                              \n",
       "1                   28.278368           0.0                    1.0   \n",
       "2                   24.468977           0.0                    1.0   \n",
       "3                   32.573826           0.0                    1.0   \n",
       "4                   38.937395           0.0                    1.0   \n",
       "5                   40.833333           0.0                    1.0   \n",
       "\n",
       "         tls160_phase  tls160_phase_duration  tls161_phase  \\\n",
       "episode                                                      \n",
       "1                 0.0                    1.0           0.0   \n",
       "2                 0.0                    1.0           0.0   \n",
       "3                 0.0                    1.0           0.0   \n",
       "4                 0.0                    1.0           0.0   \n",
       "5                 0.0                    1.0           0.0   \n",
       "\n",
       "         tls161_phase_duration  \n",
       "episode                         \n",
       "1                          1.0  \n",
       "2                          1.0  \n",
       "3                          1.0  \n",
       "4                          1.0  \n",
       "5                          1.0  "
      ]
     },
     "execution_count": 155,
     "metadata": {},
     "output_type": "execute_result"
    }
   ],
   "source": [
    "waitTime_400_eval.groupby('episode').mean()"
   ]
  },
  {
   "cell_type": "code",
   "execution_count": 164,
   "metadata": {
    "pycharm": {
     "name": "#%%\n"
    }
   },
   "outputs": [
    {
     "name": "stdout",
     "output_type": "stream",
     "text": [
      "Wait Time 900\n",
      "localCO2Emission          141872.919921\n",
      "localCOEmission             4302.094848\n",
      "localHCEmission               21.749922\n",
      "localPMxEmission              22.303856\n",
      "localNOxEmission             837.315444\n",
      "localNoiseEmission           474.224064\n",
      "local_fuel_consumption     44934.929234\n",
      "dtype: float64\n"
     ]
    }
   ],
   "source": [
    "print('Wait Time 900')\n",
    "print(waitTime_900_eval[['localCO2Emission','localCOEmission','localHCEmission','localPMxEmission','localNOxEmission','localNoiseEmission', 'local_fuel_consumption']].mean())\n"
   ]
  },
  {
   "cell_type": "code",
   "execution_count": 187,
   "metadata": {
    "pycharm": {
     "name": "#%%\n"
    }
   },
   "outputs": [
    {
     "name": "stderr",
     "output_type": "stream",
     "text": [
      "/var/folders/45/67c621jx4zd38ksd1pb9g15h0000gn/T/ipykernel_84036/58056786.py:1: FutureWarning: The default value of numeric_only in DataFrameGroupBy.mean is deprecated. In a future version, numeric_only will default to False. Either specify numeric_only or select only columns which should be valid for the function.\n",
      "  waitTime_900_eval.groupby('episode').mean()\n"
     ]
    },
    {
     "data": {
      "text/html": [
       "<div>\n",
       "<style scoped>\n",
       "    .dataframe tbody tr th:only-of-type {\n",
       "        vertical-align: middle;\n",
       "    }\n",
       "\n",
       "    .dataframe tbody tr th {\n",
       "        vertical-align: top;\n",
       "    }\n",
       "\n",
       "    .dataframe thead th {\n",
       "        text-align: right;\n",
       "    }\n",
       "</style>\n",
       "<table border=\"1\" class=\"dataframe\">\n",
       "  <thead>\n",
       "    <tr style=\"text-align: right;\">\n",
       "      <th></th>\n",
       "      <th>num_vehicles</th>\n",
       "      <th>avg_speed</th>\n",
       "      <th>localCO2Emission</th>\n",
       "      <th>localCOEmission</th>\n",
       "      <th>localHCEmission</th>\n",
       "      <th>localPMxEmission</th>\n",
       "      <th>localNOxEmission</th>\n",
       "      <th>local_fuel_consumption</th>\n",
       "      <th>localNoiseEmission</th>\n",
       "      <th>localWaitingTime</th>\n",
       "      <th>localStoppedVehicles</th>\n",
       "      <th>tls159_phase</th>\n",
       "      <th>tls159_phase_duration</th>\n",
       "      <th>tls160_phase</th>\n",
       "      <th>tls160_phase_duration</th>\n",
       "      <th>tls161_phase</th>\n",
       "      <th>tls161_phase_duration</th>\n",
       "    </tr>\n",
       "    <tr>\n",
       "      <th>episode</th>\n",
       "      <th></th>\n",
       "      <th></th>\n",
       "      <th></th>\n",
       "      <th></th>\n",
       "      <th></th>\n",
       "      <th></th>\n",
       "      <th></th>\n",
       "      <th></th>\n",
       "      <th></th>\n",
       "      <th></th>\n",
       "      <th></th>\n",
       "      <th></th>\n",
       "      <th></th>\n",
       "      <th></th>\n",
       "      <th></th>\n",
       "      <th></th>\n",
       "      <th></th>\n",
       "    </tr>\n",
       "  </thead>\n",
       "  <tbody>\n",
       "    <tr>\n",
       "      <th>1</th>\n",
       "      <td>39.724002</td>\n",
       "      <td>1.087764</td>\n",
       "      <td>156612.225366</td>\n",
       "      <td>4313.783307</td>\n",
       "      <td>22.486052</td>\n",
       "      <td>26.685706</td>\n",
       "      <td>1005.383737</td>\n",
       "      <td>49574.405130</td>\n",
       "      <td>505.369943</td>\n",
       "      <td>5965.160202</td>\n",
       "      <td>34.672288</td>\n",
       "      <td>0.0</td>\n",
       "      <td>1.0</td>\n",
       "      <td>0.0</td>\n",
       "      <td>1.0</td>\n",
       "      <td>0.0</td>\n",
       "      <td>1.0</td>\n",
       "    </tr>\n",
       "    <tr>\n",
       "      <th>2</th>\n",
       "      <td>35.349438</td>\n",
       "      <td>1.414211</td>\n",
       "      <td>129808.455516</td>\n",
       "      <td>4105.348738</td>\n",
       "      <td>20.477049</td>\n",
       "      <td>19.243319</td>\n",
       "      <td>723.899321</td>\n",
       "      <td>41128.013264</td>\n",
       "      <td>454.696958</td>\n",
       "      <td>5191.844382</td>\n",
       "      <td>29.330337</td>\n",
       "      <td>0.0</td>\n",
       "      <td>1.0</td>\n",
       "      <td>0.0</td>\n",
       "      <td>1.0</td>\n",
       "      <td>0.0</td>\n",
       "      <td>1.0</td>\n",
       "    </tr>\n",
       "    <tr>\n",
       "      <th>3</th>\n",
       "      <td>30.921348</td>\n",
       "      <td>1.246218</td>\n",
       "      <td>116541.557538</td>\n",
       "      <td>3537.918578</td>\n",
       "      <td>17.630205</td>\n",
       "      <td>17.638299</td>\n",
       "      <td>667.358441</td>\n",
       "      <td>36917.658123</td>\n",
       "      <td>404.811569</td>\n",
       "      <td>3300.612921</td>\n",
       "      <td>25.515730</td>\n",
       "      <td>0.0</td>\n",
       "      <td>1.0</td>\n",
       "      <td>0.0</td>\n",
       "      <td>1.0</td>\n",
       "      <td>0.0</td>\n",
       "      <td>1.0</td>\n",
       "    </tr>\n",
       "    <tr>\n",
       "      <th>4</th>\n",
       "      <td>40.425281</td>\n",
       "      <td>1.199231</td>\n",
       "      <td>145874.156661</td>\n",
       "      <td>4737.627715</td>\n",
       "      <td>23.358481</td>\n",
       "      <td>21.949360</td>\n",
       "      <td>817.949668</td>\n",
       "      <td>46218.625569</td>\n",
       "      <td>471.935684</td>\n",
       "      <td>4958.735955</td>\n",
       "      <td>34.148315</td>\n",
       "      <td>0.0</td>\n",
       "      <td>1.0</td>\n",
       "      <td>0.0</td>\n",
       "      <td>1.0</td>\n",
       "      <td>0.0</td>\n",
       "      <td>1.0</td>\n",
       "    </tr>\n",
       "    <tr>\n",
       "      <th>5</th>\n",
       "      <td>42.857865</td>\n",
       "      <td>1.221543</td>\n",
       "      <td>160536.485031</td>\n",
       "      <td>4815.802471</td>\n",
       "      <td>24.798239</td>\n",
       "      <td>26.005061</td>\n",
       "      <td>972.080475</td>\n",
       "      <td>50838.550529</td>\n",
       "      <td>534.323666</td>\n",
       "      <td>5404.356180</td>\n",
       "      <td>37.025281</td>\n",
       "      <td>0.0</td>\n",
       "      <td>1.0</td>\n",
       "      <td>0.0</td>\n",
       "      <td>1.0</td>\n",
       "      <td>0.0</td>\n",
       "      <td>1.0</td>\n",
       "    </tr>\n",
       "  </tbody>\n",
       "</table>\n",
       "</div>"
      ],
      "text/plain": [
       "         num_vehicles  avg_speed  localCO2Emission  localCOEmission  \\\n",
       "episode                                                               \n",
       "1           39.724002   1.087764     156612.225366      4313.783307   \n",
       "2           35.349438   1.414211     129808.455516      4105.348738   \n",
       "3           30.921348   1.246218     116541.557538      3537.918578   \n",
       "4           40.425281   1.199231     145874.156661      4737.627715   \n",
       "5           42.857865   1.221543     160536.485031      4815.802471   \n",
       "\n",
       "         localHCEmission  localPMxEmission  localNOxEmission  \\\n",
       "episode                                                        \n",
       "1              22.486052         26.685706       1005.383737   \n",
       "2              20.477049         19.243319        723.899321   \n",
       "3              17.630205         17.638299        667.358441   \n",
       "4              23.358481         21.949360        817.949668   \n",
       "5              24.798239         26.005061        972.080475   \n",
       "\n",
       "         local_fuel_consumption  localNoiseEmission  localWaitingTime  \\\n",
       "episode                                                                 \n",
       "1                  49574.405130          505.369943       5965.160202   \n",
       "2                  41128.013264          454.696958       5191.844382   \n",
       "3                  36917.658123          404.811569       3300.612921   \n",
       "4                  46218.625569          471.935684       4958.735955   \n",
       "5                  50838.550529          534.323666       5404.356180   \n",
       "\n",
       "         localStoppedVehicles  tls159_phase  tls159_phase_duration  \\\n",
       "episode                                                              \n",
       "1                   34.672288           0.0                    1.0   \n",
       "2                   29.330337           0.0                    1.0   \n",
       "3                   25.515730           0.0                    1.0   \n",
       "4                   34.148315           0.0                    1.0   \n",
       "5                   37.025281           0.0                    1.0   \n",
       "\n",
       "         tls160_phase  tls160_phase_duration  tls161_phase  \\\n",
       "episode                                                      \n",
       "1                 0.0                    1.0           0.0   \n",
       "2                 0.0                    1.0           0.0   \n",
       "3                 0.0                    1.0           0.0   \n",
       "4                 0.0                    1.0           0.0   \n",
       "5                 0.0                    1.0           0.0   \n",
       "\n",
       "         tls161_phase_duration  \n",
       "episode                         \n",
       "1                          1.0  \n",
       "2                          1.0  \n",
       "3                          1.0  \n",
       "4                          1.0  \n",
       "5                          1.0  "
      ]
     },
     "execution_count": 187,
     "metadata": {},
     "output_type": "execute_result"
    }
   ],
   "source": [
    "waitTime_900_eval.groupby('episode').mean()"
   ]
  },
  {
   "cell_type": "code",
   "execution_count": 65,
   "metadata": {
    "pycharm": {
     "name": "#%%\n"
    }
   },
   "outputs": [
    {
     "name": "stdout",
     "output_type": "stream",
     "text": [
      "Reject the null hypothesis for Actuated vs. Diff Waiting Time (KS Test).\n",
      "Reject the null hypothesis for Actuated vs. Average Speed (KS Test).\n",
      "Reject the null hypothesis for Actuated vs. Queue (KS Test).\n",
      "KS Test statistics and p-values:\n",
      "Actuated vs. Diff Waiting Time - KS statistic: 0.2617623138330548, p-value: 3.8592270652385586e-269\n",
      "Actuated vs. Average Speed - KS statistic: 0.21270856461678853, p-value: 4.902431674826353e-177\n",
      "Actuated vs. Queue - KS statistic: 0.20594506379114078, p-value: 7.055255253653443e-166\n"
     ]
    }
   ],
   "source": [
    "# Data for Actuated, Diff Waiting Time, Average Speed, and Queue\n",
    "actuated_data = np.array(df['localCO2Emission'])\n",
    "diff_waiting_time_data = np.array(waitTime_200_eval['localCO2Emission'])\n",
    "average_speed_data = np.array(speed_eval['localCO2Emission'])\n",
    "queue_data = np.array(queue_eval['localCO2Emission'])\n",
    "\n",
    "# Define the significance level (alpha)\n",
    "alpha = 0.05\n",
    "\n",
    "# Perform KS test for Actuated vs. Diff Waiting Time\n",
    "statistic_dw, p_value_dw = ks_2samp(actuated_data, diff_waiting_time_data)\n",
    "\n",
    "# Perform KS test for Actuated vs. Average Speed\n",
    "statistic_as, p_value_as = ks_2samp(actuated_data, average_speed_data)\n",
    "\n",
    "# Perform KS test for Actuated vs. Queue\n",
    "statistic_q, p_value_q = ks_2samp(actuated_data, queue_data)\n",
    "\n",
    "# Compare p-values to alpha and print the results\n",
    "if p_value_dw < alpha:\n",
    "    print(\"Reject the null hypothesis for Actuated vs. Diff Waiting Time (KS Test).\")\n",
    "else:\n",
    "    print(\"Fail to reject the null hypothesis for Actuated vs. Diff Waiting Time (KS Test).\")\n",
    "\n",
    "if p_value_as < alpha:\n",
    "    print(\"Reject the null hypothesis for Actuated vs. Average Speed (KS Test).\")\n",
    "else:\n",
    "    print(\"Fail to reject the null hypothesis for Actuated vs. Average Speed (KS Test).\")\n",
    "\n",
    "if p_value_q < alpha:\n",
    "    print(\"Reject the null hypothesis for Actuated vs. Queue (KS Test).\")\n",
    "else:\n",
    "    print(\"Fail to reject the null hypothesis for Actuated vs. Queue (KS Test).\")\n",
    "\n",
    "# Print the KS test statistics and p-values for reference\n",
    "print(\"KS Test statistics and p-values:\")\n",
    "print(f\"Actuated vs. Diff Waiting Time - KS statistic: {statistic_dw}, p-value: {p_value_dw}\")\n",
    "print(f\"Actuated vs. Average Speed - KS statistic: {statistic_as}, p-value: {p_value_as}\")\n",
    "print(f\"Actuated vs. Queue - KS statistic: {statistic_q}, p-value: {p_value_q}\")\n"
   ]
  },
  {
   "cell_type": "code",
   "execution_count": 66,
   "metadata": {
    "pycharm": {
     "name": "#%%\n"
    }
   },
   "outputs": [
    {
     "name": "stdout",
     "output_type": "stream",
     "text": [
      "Reject the null hypothesis for Actuated vs. Diff Waiting Time (Mann-Whitney U Test).\n",
      "Reject the null hypothesis for Actuated vs. Average Speed (Mann-Whitney U Test).\n",
      "Reject the null hypothesis for Actuated vs. Queue (Mann-Whitney U Test).\n",
      "Mann-Whitney U Test statistics and p-values:\n",
      "Actuated vs. Diff Waiting Time - U statistic: 52741156.0, p-value: 1.43887653960588e-309\n",
      "Actuated vs. Average Speed - U statistic: 49090654.0, p-value: 6.671938206128225e-163\n",
      "Actuated vs. Queue - U statistic: 49210073.0, p-value: 1.370838995273993e-167\n"
     ]
    }
   ],
   "source": [
    "import numpy as np\n",
    "from scipy.stats import mannwhitneyu\n",
    "\n",
    "# Data for Actuated, Diff Waiting Time, Average Speed, and Queue\n",
    "actuated_data = np.array(df['localCO2Emission'])\n",
    "diff_waiting_time_data = np.array(waitTime_200_eval['localCO2Emission'])\n",
    "average_speed_data = np.array(speed_eval['localCO2Emission'])\n",
    "queue_data = np.array(queue_eval['localCO2Emission'])\n",
    "\n",
    "# Define the significance level (alpha)\n",
    "alpha = 0.05\n",
    "\n",
    "# Perform Mann-Whitney U test for Actuated vs. Diff Waiting Time\n",
    "statistic_dw, p_value_dw = mannwhitneyu(actuated_data, diff_waiting_time_data, alternative='two-sided')\n",
    "\n",
    "# Perform Mann-Whitney U test for Actuated vs. Average Speed\n",
    "statistic_as, p_value_as = mannwhitneyu(actuated_data, average_speed_data, alternative='two-sided')\n",
    "\n",
    "# Perform Mann-Whitney U test for Actuated vs. Queue\n",
    "statistic_q, p_value_q = mannwhitneyu(actuated_data, queue_data, alternative='two-sided')\n",
    "\n",
    "# Compare p-values to alpha and print the results\n",
    "if p_value_dw < alpha:\n",
    "    print(\"Reject the null hypothesis for Actuated vs. Diff Waiting Time (Mann-Whitney U Test).\")\n",
    "else:\n",
    "    print(\"Fail to reject the null hypothesis for Actuated vs. Diff Waiting Time (Mann-Whitney U Test).\")\n",
    "\n",
    "if p_value_as < alpha:\n",
    "    print(\"Reject the null hypothesis for Actuated vs. Average Speed (Mann-Whitney U Test).\")\n",
    "else:\n",
    "    print(\"Fail to reject the null hypothesis for Actuated vs. Average Speed (Mann-Whitney U Test).\")\n",
    "\n",
    "if p_value_q < alpha:\n",
    "    print(\"Reject the null hypothesis for Actuated vs. Queue (Mann-Whitney U Test).\")\n",
    "else:\n",
    "    print(\"Fail to reject the null hypothesis for Actuated vs. Queue (Mann-Whitney U Test).\")\n",
    "\n",
    "# Print the Mann-Whitney U test statistics and p-values for reference\n",
    "print(\"Mann-Whitney U Test statistics and p-values:\")\n",
    "print(f\"Actuated vs. Diff Waiting Time - U statistic: {statistic_dw}, p-value: {p_value_dw}\")\n",
    "print(f\"Actuated vs. Average Speed - U statistic: {statistic_as}, p-value: {p_value_as}\")\n",
    "print(f\"Actuated vs. Queue - U statistic: {statistic_q}, p-value: {p_value_q}\")\n"
   ]
  },
  {
   "cell_type": "code",
   "execution_count": null,
   "metadata": {
    "pycharm": {
     "name": "#%%\n"
    }
   },
   "outputs": [],
   "source": [
    "\n",
    "print('Pressure')\n",
    "print(eval_pressure[['system_local_CO2', 'system_local_CO', 'system_local_HC'\t,'system_local_PMx','system_local_NOx','system_local_noise_emission']].mean())\n",
    "\n",
    "print('Brake')\n",
    "print(eval_brake[['system_local_CO2', 'system_local_CO', 'system_local_HC'\t,'system_local_PMx','system_local_NOx','system_local_noise_emission']].mean())\n",
    "\n",
    "print('Brake Accel')\n",
    "print(eval_brakeAccel[['system_local_CO2', 'system_local_CO', 'system_local_HC'\t,'system_local_PMx','system_local_NOx','system_local_noise_emission']].mean())"
   ]
  },
  {
   "cell_type": "markdown",
   "metadata": {
    "pycharm": {
     "name": "#%% md\n"
    }
   },
   "source": [
    "### Phase Transition Comparison"
   ]
  },
  {
   "cell_type": "code",
   "execution_count": 69,
   "metadata": {
    "pycharm": {
     "name": "#%%\n"
    }
   },
   "outputs": [],
   "source": [
    "# Retrieve all possible states for each traffic light\n",
    "tls_159_states = [\"GGGgrrrrrrgGgGGrrrGG\",\n",
    "        \"GGGgrrrrrrgGgGGrrrrr\",\n",
    "        \"yyygrrrrrryyyyyrrrrr\",\n",
    "        \"GGGGrrrrrrrrrrrrrrrr\",\n",
    "        \"yyyyrrrrrrrrrrrrrrrr\",\n",
    "        \"rrrrgGGGrrrrrrrGGGrG\",\n",
    "        \"rrrrgGGGrrrrrrrGrrrr\",\n",
    "        \"rrrryyyyrrrrrrryrrrr\",\n",
    "        \"rrrrrrrrggrrrrrrGGGr\",\n",
    "        \"rrrrrrrrggrrrrrrrrrr\",\n",
    "        \"rrrrrrrryyrrrrrrrrrr\"]\n",
    "\n",
    "tls_160_states = [\"rgGgGrrrrrrrrrrrGGrGGrG\",\n",
    "        \"rgGgGrrrrrrrrrrrrrrrrrr\",\n",
    "        \"ryyyyrrrrrrrrrrrrrrrrrr\",\n",
    "        \"rrrrrgrrrrrrggGGGGGrGGr\",\n",
    "        \"rrrrrgrrrrrrggGGrrrrrrr\",\n",
    "        \"rrrrryrrrrrryyyyrrrrrrr\",\n",
    "        \"grrrrrGGgGGgrrrrrGGrrGG\",\n",
    "        \"grrrrrGGgGGgrrrrrrrrrrr\",\n",
    "        \"grrrrryyyyyyrrrrrrrrrrr\",\n",
    "        \"Grrrrrrrrrrrrrrrrrrrrrr\",\n",
    "        \"yrrrrrrrrrrrrrrrrrrrrrr\"]\n",
    "\n",
    "tls_161_states = [\"yyyyyyryyyrrrrrrrrrrrry\",\n",
    "        \"rrrrrrrrrrrrrrrrrrrrrry\",\n",
    "        \"rrrrrrrrrrrrrrrrrrrrrrr\",\n",
    "        \"ggggggggggrrggggggggggg\",\n",
    "        \"rrrrrrryrryyrrrrrryyrrr\",\n",
    "        \"rrrrrrrgrrggrrrrrrggrrr\",\n",
    "        \"rrrrrrrrrrrrrrrrrryyrrr\",\n",
    "        \"rrrrrrrrrrrrrrrrrrrrrrr\",\n",
    "        \"yyyyyyyryyrrrrrrrrrrgrr\",\n",
    "        \"gggggggrggrrrrrrrrrrgrr\",\n",
    "        \"ggggggggggrrrrrrrrrrgry\",\n",
    "        \"ggggggggggrrrrrrrrrrgrg\",\n",
    "        \"ggggggyryyrrrrrrrrrrrrg\",\n",
    "        \"yyyyyyrrrrrrrrrrrrrrrrg\",\n",
    "        \"yyyyyyrrrrrrrrrrrrrrrry\"]"
   ]
  },
  {
   "cell_type": "code",
   "execution_count": 100,
   "metadata": {
    "pycharm": {
     "name": "#%%\n"
    }
   },
   "outputs": [
    {
     "data": {
      "text/plain": [
       "GGGgrrrrrrgGgGGrrrGG    715\n",
       "rrrrgGGGrrrrrrrGGGrG    410\n",
       "rrrrrrrrggrrrrrrGGGr    310\n",
       "GGGgrrrrrrgGgGGrrrrr    239\n",
       "rrrrrrrrggrrrrrrrrrr     73\n",
       "rrrrgGGGrrrrrrrGrrrr     32\n",
       "Name: tls159_state, dtype: int64"
      ]
     },
     "execution_count": 100,
     "metadata": {},
     "output_type": "execute_result"
    }
   ],
   "source": [
    "queue_0['tls159_state'].value_counts()"
   ]
  },
  {
   "cell_type": "code",
   "execution_count": 101,
   "metadata": {
    "pycharm": {
     "name": "#%%\n"
    }
   },
   "outputs": [
    {
     "data": {
      "text/plain": [
       "rrrrrrrrggrrrrrrrrrr    792\n",
       "GGGgrrrrrrgGgGGrrrGG    626\n",
       "rrrrgGGGrrrrrrrGGGrG    192\n",
       "rrrrrrrrggrrrrrrGGGr     94\n",
       "GGGgrrrrrrgGgGGrrrrr     69\n",
       "rrrrgGGGrrrrrrrGrrrr      6\n",
       "Name: tls159_state, dtype: int64"
      ]
     },
     "execution_count": 101,
     "metadata": {},
     "output_type": "execute_result"
    }
   ],
   "source": [
    "queue_1['tls159_state'].value_counts()"
   ]
  },
  {
   "cell_type": "code",
   "execution_count": 102,
   "metadata": {
    "pycharm": {
     "name": "#%%\n"
    }
   },
   "outputs": [
    {
     "data": {
      "text/plain": [
       "GGGgrrrrrrgGgGGrrrGG    661\n",
       "rrrrrrrrggrrrrrrrrrr    484\n",
       "rrrrgGGGrrrrrrrGGGrG    308\n",
       "GGGgrrrrrrgGgGGrrrrr    211\n",
       "rrrrrrrrggrrrrrrGGGr    115\n",
       "Name: tls159_state, dtype: int64"
      ]
     },
     "execution_count": 102,
     "metadata": {},
     "output_type": "execute_result"
    }
   ],
   "source": [
    "queue_2['tls159_state'].value_counts()"
   ]
  },
  {
   "cell_type": "code",
   "execution_count": 133,
   "metadata": {
    "pycharm": {
     "name": "#%%\n"
    }
   },
   "outputs": [],
   "source": [
    "plt.rcParams.update({'font.size': 8})"
   ]
  },
  {
   "cell_type": "code",
   "execution_count": 153,
   "metadata": {
    "pycharm": {
     "name": "#%%\n"
    }
   },
   "outputs": [
    {
     "data": {
      "image/png": "[encoded data removed]",
      "text/plain": [
       "<Figure size 980x200 with 5 Axes>"
      ]
     },
     "metadata": {},
     "output_type": "display_data"
    }
   ],
   "source": [
    "### ------ Phase Transition Matrix tls_159 ------ ###\n",
    "\n",
    "# Create a figure with subplots based on the number of dataframes\n",
    "tls_list = ['tls_159_state', 'tls_160_state', 'tls_161_state'] # list of all possible states\n",
    "unique_state_lists = [tls_159_states, tls_160_states, tls_161_states] # list of lists of unique states for each traffic light\n",
    "df_list = [(speed_eval, 'Speed'), (waitTime_200_eval, 'Waiting Time'), (queue_eval, 'Queue'), (df, 'Actuated')] # list of dataframes\n",
    "\n",
    "num_dataframes = len(df_list)\n",
    "\n",
    "# Create a figure with three subplots\n",
    "fig, axs = plt.subplots(1, 4, figsize=(9.8,2))\n",
    "\n",
    "for i, (dataframe, name) in enumerate(df_list):\n",
    "    \n",
    "    # num_dataframes = len(tls_list)\n",
    "    # fig, axs = plt.subplots(1, num_dataframes, figsize=(5*num_dataframes, 5))\n",
    "\n",
    "    def transition_matrix(transitions, num_phases):\n",
    "        phases = tls_159_states\n",
    "        phase_to_index = {phase: index for index, phase in enumerate(phases)}\n",
    "        matrix = [[0] * num_phases for _ in range(num_phases)]\n",
    "        for (phase1, phase2) in transitions:\n",
    "            i = phase_to_index[phase1]\n",
    "            j = phase_to_index[phase2]\n",
    "            matrix[i][j] += 1\n",
    "        return matrix\n",
    "\n",
    "    def normalize_matrix(matrix):\n",
    "        normalized_matrix = []\n",
    "        for row in matrix:\n",
    "            row_sum = sum(row)\n",
    "            if row_sum != 0:\n",
    "                normalized_row = [value / row_sum for value in row]\n",
    "            else:\n",
    "                normalized_row = [0] * len(row)\n",
    "            normalized_matrix.append(normalized_row)\n",
    "        return normalized_matrix\n",
    "\n",
    "    def create_heatmap(matrix, states, ax):\n",
    "        sns.heatmap(matrix, square=True, xticklabels=[\"{0}\".format(i+1) for i in range(num_phases)], yticklabels=[\"{0}\".format(i+1) for i in range(num_phases)] if i == 0 else \"\", ax=ax, cbar=i==num_dataframes-1, cbar_ax=None if i == num_dataframes-1 else False)\n",
    "        ax.set_xlabel(\"Next State\")\n",
    "        ax.set_ylabel(\"Current State\" if i == 0 else \"\")\n",
    "        ax.set_title(f\"{name}\")\n",
    "        \n",
    "        axs[i].set_xticklabels(axs[i].get_xticklabels(), rotation=60, verticalalignment=\"center\")\n",
    "        axs[i].set_yticklabels(axs[i].get_yticklabels(), rotation=0, verticalalignment=\"center\")\n",
    "\n",
    "\n",
    "    # append all states collected during training to list\n",
    "    tls_allStates = dataframe['tls159_state'].tolist()\n",
    "    #tls_allStates.append(x for x in tls_159_states if x not in tls_allStates)\n",
    "\n",
    "    # get number of distinct phases\n",
    "    num_phases = len(tls_159_states)\n",
    "\n",
    "    # create list of tuples for state transitions\n",
    "    transitions = [(tls_allStates[i], tls_allStates[i+1]) for i in range(len(tls_allStates)-1)]\n",
    "\n",
    "    # create transition matrix\n",
    "    matrix = transition_matrix(transitions, num_phases)\n",
    "    #print(matrix)\n",
    "\n",
    "    # normalize matrix\n",
    "    transition_matrix = normalize_matrix(matrix) \n",
    "\n",
    "    # plot heatmap in the corresponding subplot\n",
    "    create_heatmap(transition_matrix, tls_159_states, axs[i])\n",
    "\n",
    "# Adjust the spacing between subplots\n",
    "\n",
    "#plt.tight_layout()\n",
    "plt.subplots_adjust(wspace=-0.3, hspace=0)\n",
    "\n",
    "# Show the figure\n",
    "plt.show()\n"
   ]
  },
  {
   "cell_type": "code",
   "execution_count": 154,
   "metadata": {
    "pycharm": {
     "name": "#%%\n"
    }
   },
   "outputs": [
    {
     "data": {
      "image/png": "[encoded data removed]",
      "text/plain": [
       "<Figure size 980x200 with 5 Axes>"
      ]
     },
     "metadata": {},
     "output_type": "display_data"
    }
   ],
   "source": [
    "### ------ Phase Transition Matrix tls_160 ------ ###\n",
    "\n",
    "# Create a figure with subplots based on the number of dataframes\n",
    "tls_list = ['tls_159_state', 'tls_160_state', 'tls_161_state'] # list of all possible states\n",
    "unique_state_lists = [tls_159_states, tls_160_states, tls_161_states] # list of lists of unique states for each traffic light\n",
    "df_list = [(speed_eval, 'Speed'), (waitTime_200_eval, 'Waiting Time'), (queue_eval, 'Queue'), (df, 'Actuated')] # list of dataframes\n",
    "\n",
    "num_dataframes = len(df_list)\n",
    "\n",
    "# Create a figure with three subplots\n",
    "fig, axs = plt.subplots(1, 4, figsize=(9.8,2))\n",
    "\n",
    "for i, (dataframe, name) in enumerate(df_list):\n",
    "    \n",
    "    # num_dataframes = len(tls_list)\n",
    "    # fig, axs = plt.subplots(1, num_dataframes, figsize=(5*num_dataframes, 5))\n",
    "\n",
    "    def transition_matrix(transitions, num_phases):\n",
    "        phases = tls_160_states\n",
    "        phase_to_index = {phase: index for index, phase in enumerate(phases)}\n",
    "        matrix = [[0] * num_phases for _ in range(num_phases)]\n",
    "        for (phase1, phase2) in transitions:\n",
    "            i = phase_to_index[phase1]\n",
    "            j = phase_to_index[phase2]\n",
    "            matrix[i][j] += 1\n",
    "        return matrix\n",
    "\n",
    "    def normalize_matrix(matrix):\n",
    "        normalized_matrix = []\n",
    "        for row in matrix:\n",
    "            row_sum = sum(row)\n",
    "            if row_sum != 0:\n",
    "                normalized_row = [value / row_sum for value in row]\n",
    "            else:\n",
    "                normalized_row = [0] * len(row)\n",
    "            normalized_matrix.append(normalized_row)\n",
    "        return normalized_matrix\n",
    "\n",
    "    def create_heatmap(matrix, states, ax):\n",
    "        sns.heatmap(matrix, square=True, xticklabels=[\"{0}\".format(i+1) for i in range(num_phases)], yticklabels=[\"{0}\".format(i+1) for i in range(num_phases)] if i == 0 else \"\", ax=ax, cbar=i==num_dataframes-1, cbar_ax=None if i == num_dataframes-1 else False)\n",
    "        ax.set_xlabel(\"Next State\")\n",
    "        ax.set_ylabel(\"Current State\" if i == 0 else \"\")\n",
    "        ax.set_title(f\"{name}\")\n",
    "        \n",
    "        axs[i].set_xticklabels(axs[i].get_xticklabels(), rotation=60, verticalalignment=\"center\")\n",
    "        axs[i].set_yticklabels(axs[i].get_yticklabels(), rotation=0, verticalalignment=\"center\")\n",
    "\n",
    "    # append all states collected during training to list\n",
    "    tls_allStates = dataframe['tls160_state'].tolist()\n",
    "    #tls_allStates.append(x for x in tls_159_states if x not in tls_allStates)\n",
    "\n",
    "    # get number of distinct phases\n",
    "    num_phases = len(tls_160_states)\n",
    "\n",
    "    # create list of tuples for state transitions\n",
    "    transitions = [(tls_allStates[i], tls_allStates[i+1]) for i in range(len(tls_allStates)-1)]\n",
    "\n",
    "    # create transition matrix\n",
    "    matrix = transition_matrix(transitions, num_phases)\n",
    "    #print(matrix)\n",
    "\n",
    "    # normalize matrix\n",
    "    transition_matrix = normalize_matrix(matrix) \n",
    "\n",
    "    # plot heatmap in the corresponding subplot\n",
    "    create_heatmap(transition_matrix, tls_160_states, axs[i])\n",
    "\n",
    "# Adjust the spacing between subplots\n",
    "\n",
    "#plt.tight_layout()\n",
    "plt.subplots_adjust(wspace=-0.3, hspace=0)\n",
    "\n",
    "# Show the figure\n",
    "plt.show()\n"
   ]
  },
  {
   "cell_type": "code",
   "execution_count": 155,
   "metadata": {
    "pycharm": {
     "name": "#%%\n"
    }
   },
   "outputs": [
    {
     "data": {
      "image/png": "[encoded data removed]",
      "text/plain": [
       "<Figure size 1140x240 with 5 Axes>"
      ]
     },
     "metadata": {},
     "output_type": "display_data"
    }
   ],
   "source": [
    "### ------ Phase Transition Matrix tls_161 ------ ###\n",
    "\n",
    "# Create a figure with subplots based on the number of dataframes\n",
    "tls_list = ['tls_159_state', 'tls_160_state', 'tls_161_state'] # list of all possible states\n",
    "unique_state_lists = [tls_159_states, tls_160_states, tls_161_states] # list of lists of unique states for each traffic light\n",
    "df_list = [(speed_eval, 'Speed'), (waitTime_200_eval, 'Waiting Time'), (queue_eval, 'Queue'), (df, 'Actuated')] # list of dataframes\n",
    "\n",
    "num_dataframes = len(df_list)\n",
    "\n",
    "# Create a figure with three subplots\n",
    "fig, axs = plt.subplots(1, 4, figsize=(11.4, 2.4))\n",
    "\n",
    "for i, (dataframe, name) in enumerate(df_list):\n",
    "    \n",
    "    # num_dataframes = len(tls_list)\n",
    "    # fig, axs = plt.subplots(1, num_dataframes, figsize=(5*num_dataframes, 5))\n",
    "\n",
    "    def transition_matrix(transitions, num_phases):\n",
    "        phases = tls_161_states\n",
    "        phase_to_index = {phase: index for index, phase in enumerate(phases)}\n",
    "        matrix = [[0] * num_phases for _ in range(num_phases)]\n",
    "        for (phase1, phase2) in transitions:\n",
    "            i = phase_to_index[phase1]\n",
    "            j = phase_to_index[phase2]\n",
    "            matrix[i][j] += 1\n",
    "        return matrix\n",
    "\n",
    "    def normalize_matrix(matrix):\n",
    "        normalized_matrix = []\n",
    "        for row in matrix:\n",
    "            row_sum = sum(row)\n",
    "            if row_sum != 0:\n",
    "                normalized_row = [value / row_sum for value in row]\n",
    "            else:\n",
    "                normalized_row = [0] * len(row)\n",
    "            normalized_matrix.append(normalized_row)\n",
    "        return normalized_matrix\n",
    "\n",
    "    def create_heatmap(matrix, states, ax):\n",
    "        sns.heatmap(matrix, square=True, xticklabels=[\"{0}\".format(i+1) for i in range(num_phases)], yticklabels=[\"{0}\".format(i+1) for i in range(num_phases)] if i == 0 else \"\", ax=ax, cbar=i==num_dataframes-1, cbar_ax=None if i == num_dataframes-1 else False)\n",
    "        ax.set_xlabel(\"Next State\")\n",
    "        ax.set_ylabel(\"Current State\" if i == 0 else \"\")\n",
    "        ax.set_title(f\"{name}\")\n",
    "        \n",
    "        axs[i].set_xticklabels(axs[i].get_xticklabels(), rotation=60, verticalalignment=\"center\")\n",
    "        axs[i].set_yticklabels(axs[i].get_yticklabels(), rotation=0, verticalalignment=\"center\")\n",
    "\n",
    "    # append all states collected during training to list\n",
    "    tls_allStates = dataframe['tls161_state'].tolist()\n",
    "    #tls_allStates.append(x for x in tls_159_states if x not in tls_allStates)\n",
    "\n",
    "    # get number of distinct phases\n",
    "    num_phases = len(tls_161_states)\n",
    "\n",
    "    # create list of tuples for state transitions\n",
    "    transitions = [(tls_allStates[i], tls_allStates[i+1]) for i in range(len(tls_allStates)-1)]\n",
    "\n",
    "    # create transition matrix\n",
    "    matrix = transition_matrix(transitions, num_phases)\n",
    "    #print(matrix)\n",
    "\n",
    "    # normalize matrix\n",
    "    transition_matrix = normalize_matrix(matrix) \n",
    "\n",
    "    # plot heatmap in the corresponding subplot\n",
    "    create_heatmap(transition_matrix, tls_161_states, axs[i])\n",
    "\n",
    "# Adjust the spacing between subplots\n",
    "\n",
    "#plt.tight_layout()\n",
    "plt.subplots_adjust(wspace=-0.3, hspace=0)\n",
    "\n",
    "# Show the figure\n",
    "plt.show()\n"
   ]
  },
  {
   "cell_type": "code",
   "execution_count": 184,
   "metadata": {
    "pycharm": {
     "name": "#%%\n"
    }
   },
   "outputs": [
    {
     "data": {
      "image/png": "[encoded data removed]",
      "text/plain": [
       "<Figure size 950x300 with 4 Axes>"
      ]
     },
     "metadata": {},
     "output_type": "display_data"
    },
    {
     "data": {
      "image/png": "[encoded data removed]",
      "text/plain": [
       "<Figure size 950x300 with 4 Axes>"
      ]
     },
     "metadata": {},
     "output_type": "display_data"
    },
    {
     "data": {
      "image/png": "[encoded data removed]",
      "text/plain": [
       "<Figure size 950x300 with 4 Axes>"
      ]
     },
     "metadata": {},
     "output_type": "display_data"
    },
    {
     "data": {
      "image/png": "[encoded data removed]",
      "text/plain": [
       "<Figure size 950x300 with 4 Axes>"
      ]
     },
     "metadata": {},
     "output_type": "display_data"
    }
   ],
   "source": [
    "### ------ Phase Transition Matrix sorted by Reward Type ------ ###\n",
    "\n",
    "# Create a figure with subplots based on the number of dataframes\n",
    "tls_list = ['tls159_state', 'tls160_state', 'tls161_state'] # list of all possible states\n",
    "unique_state_lists = [tls_159_states, tls_160_states, tls_161_states] # list of lists of unique states for each traffic light\n",
    "df_list = [(speed_eval, 'Speed'), (queue_eval, 'Queue'), (waitTime_200_eval, 'WaitTime'), \n",
    "       (df, 'Actuated')]\n",
    "\n",
    "\n",
    "for (df, name) in df_list:\n",
    "    j = 0\n",
    "    num_dataframes = len(tls_list)\n",
    "    fig, axs = plt.subplots(1, num_dataframes, figsize=(9.5, 3))\n",
    "\n",
    "    # Iterate over the dataframes and plot each one in a subplot\n",
    "    for i, col in enumerate(tls_list):\n",
    "        # create transition matrix and plot heatmap\n",
    "\n",
    "        def transition_matrix(transitions, num_phases):\n",
    "            phases = list(set(phase for transition in transitions for phase in transition))\n",
    "            phase_to_index = {phase: index for index, phase in enumerate(phases)}\n",
    "            matrix = [[0] * num_phases for _ in range(num_phases)]\n",
    "            for (phase1, phase2) in transitions:\n",
    "                i = phase_to_index[phase1]\n",
    "                j = phase_to_index[phase2]\n",
    "                matrix[i][j] += 1\n",
    "            return matrix\n",
    "\n",
    "\n",
    "        def normalize_matrix(matrix):\n",
    "            normalized_matrix = []\n",
    "            for row in matrix:\n",
    "                row_sum = sum(row)\n",
    "                if row_sum != 0:\n",
    "                    normalized_row = [value / row_sum for value in row]\n",
    "                else:\n",
    "                    normalized_row = [0] * len(row)\n",
    "                normalized_matrix.append(normalized_row)\n",
    "            return normalized_matrix\n",
    "\n",
    "        \n",
    "        def create_heatmap(matrix, states, ax):\n",
    "            sns.heatmap(matrix, square=True, xticklabels=[\"{0}\".format(i+1) for i in range(num_phases)], yticklabels=[\"{0}\".format(i+1) for i in range(num_phases)] if (i == 0 or i == 2) else \"\", ax=ax, cbar=i==num_dataframes-1, cbar_ax=None if i == num_dataframes-1 else False)\n",
    "            ax.set_xlabel(\"Next State\")\n",
    "            ax.set_ylabel(\"Current State\" if i == 0 else \"\")\n",
    "\n",
    "            #ax.set_title(f\"{name}\" if i == 1 else \"\")\n",
    "            ax.set_aspect(\"equal\")\n",
    "\n",
    "        # append all states collected during training to list\n",
    "        tls_allStates = df[col].tolist()\n",
    "        #tls_allStates.append(x for x in unique_state_lists[j] if x not in tls_allStates)\n",
    "\n",
    "        # get number of distinct phases\n",
    "        num_phases = len(unique_state_lists[j])\n",
    "\n",
    "        # create list of tuples for state transitions\n",
    "        transitions = [(tls_allStates[i], tls_allStates[i+1]) for i in range(len(tls_allStates)-1)]\n",
    "\n",
    "        # create transition matrix\n",
    "        matrix = transition_matrix(transitions, num_phases)\n",
    "        #print(matrix)\n",
    "\n",
    "        # normalize matrix\n",
    "        transition_matrix = normalize_matrix(matrix)  # assuming you already have the transition matrix\n",
    "\n",
    "        # plot heatmap in the corresponding subplot\n",
    "        create_heatmap(transition_matrix, unique_state_lists[j], axs[i])\n",
    "        \n",
    "        j += 1\n",
    "\n",
    "    # Adjust the spacing between subplots\n",
    "    plt.tight_layout()\n",
    "\n",
    "    # Show the figure\n",
    "    plt.show()\n",
    "\n",
    "\n",
    "# plot heatmap\n",
    "#create_heatmap(transition_matrix, set(tls_160_states))"
   ]
  },
  {
   "cell_type": "markdown",
   "metadata": {
    "pycharm": {
     "name": "#%% md\n"
    }
   },
   "source": [
    "### Polar Plots for Time Spent in State"
   ]
  },
  {
   "cell_type": "code",
   "execution_count": 63,
   "metadata": {
    "pycharm": {
     "name": "#%%\n"
    }
   },
   "outputs": [],
   "source": [
    "# Retrieve all possible states for each traffic light\n",
    "tls_159_states = [\"GGGgrrrrrrgGgGGrrrGG\",\n",
    "        \"GGGgrrrrrrgGgGGrrrrr\",\n",
    "        \"yyygrrrrrryyyyyrrrrr\",\n",
    "        \"GGGGrrrrrrrrrrrrrrrr\",\n",
    "        \"yyyyrrrrrrrrrrrrrrrr\",\n",
    "        \"rrrrgGGGrrrrrrrGGGrG\",\n",
    "        \"rrrrgGGGrrrrrrrGrrrr\",\n",
    "        \"rrrryyyyrrrrrrryrrrr\",\n",
    "        \"rrrrrrrrggrrrrrrGGGr\",\n",
    "        \"rrrrrrrrggrrrrrrrrrr\",\n",
    "        \"rrrrrrrryyrrrrrrrrrr\"]\n",
    "\n",
    "tls_160_states = [\"rgGgGrrrrrrrrrrrGGrGGrG\",\n",
    "        \"rgGgGrrrrrrrrrrrrrrrrrr\",\n",
    "        \"ryyyyrrrrrrrrrrrrrrrrrr\",\n",
    "        \"rrrrrgrrrrrrggGGGGGrGGr\",\n",
    "        \"rrrrrgrrrrrrggGGrrrrrrr\",\n",
    "        \"rrrrryrrrrrryyyyrrrrrrr\",\n",
    "        \"grrrrrGGgGGgrrrrrGGrrGG\",\n",
    "        \"grrrrrGGgGGgrrrrrrrrrrr\",\n",
    "        \"grrrrryyyyyyrrrrrrrrrrr\",\n",
    "        \"Grrrrrrrrrrrrrrrrrrrrrr\",\n",
    "        \"yrrrrrrrrrrrrrrrrrrrrrr\"]\n",
    "\n",
    "tls_161_states = [\"yyyyyyryyyrrrrrrrrrrrry\",\n",
    "        \"rrrrrrrrrrrrrrrrrrrrrry\",\n",
    "        \"rrrrrrrrrrrrrrrrrrrrrrr\",\n",
    "        \"ggggggggggrrggggggggggg\",\n",
    "        \"rrrrrrryrryyrrrrrryyrrr\",\n",
    "        \"rrrrrrrgrrggrrrrrrggrrr\",\n",
    "        \"rrrrrrrrrrrrrrrrrryyrrr\",\n",
    "        \"rrrrrrrrrrrrrrrrrrrrrrr\",\n",
    "        \"yyyyyyyryyrrrrrrrrrrgrr\",\n",
    "        \"gggggggrggrrrrrrrrrrgrr\",\n",
    "        \"ggggggggggrrrrrrrrrrgry\",\n",
    "        \"ggggggggggrrrrrrrrrrgrg\",\n",
    "        \"ggggggyryyrrrrrrrrrrrrg\",\n",
    "        \"yyyyyyrrrrrrrrrrrrrrrrg\",\n",
    "        \"yyyyyyrrrrrrrrrrrrrrrry\"]"
   ]
  },
  {
   "cell_type": "code",
   "execution_count": 126,
   "metadata": {
    "pycharm": {
     "name": "#%%\n"
    }
   },
   "outputs": [
    {
     "data": {
      "image/png": "[encoded data removed]",
      "text/plain": [
       "<Figure size 400x400 with 1 Axes>"
      ]
     },
     "metadata": {},
     "output_type": "display_data"
    },
    {
     "data": {
      "image/png": "[encoded data removed]",
      "text/plain": [
       "<Figure size 400x400 with 1 Axes>"
      ]
     },
     "metadata": {},
     "output_type": "display_data"
    },
    {
     "data": {
      "image/png": "[encoded data removed]",
      "text/plain": [
       "<Figure size 400x400 with 1 Axes>"
      ]
     },
     "metadata": {},
     "output_type": "display_data"
    }
   ],
   "source": [
    "import matplotlib.pyplot as plt\n",
    "import numpy as np\n",
    "\n",
    "# List of dataframes and corresponding policies\n",
    "configs = [(queue_0, 'Queue 0'), (queue_1, 'Queue 1'), (df, 'Actuated')]\n",
    "traffic_lights = ['tls159_state', 'tls160_state', 'tls161_state']\n",
    "lists = [tls_159_states, tls_160_states, tls_161_states]\n",
    "\n",
    "for i, tls in enumerate(traffic_lights):\n",
    "    \n",
    "    states = lists[i]\n",
    "\n",
    "    # Create a figure\n",
    "    fig, ax = plt.subplots(figsize=(4, 4), subplot_kw=dict(polar=True))\n",
    "\n",
    "    # Create the angles for the polar plot\n",
    "    angles = np.linspace(0, 2 * np.pi, len(states), endpoint=False).tolist()\n",
    "\n",
    "    # Make the plot circular\n",
    "    angles += angles[:1]\n",
    "\n",
    "    # Iterate over the configurations\n",
    "    for df, policy in configs:\n",
    "        # Calculate the time spent in each state\n",
    "        time_in_state = df[tls].value_counts()\n",
    "\n",
    "        # Normalize the values to range from 0 to 1\n",
    "        values = [time_in_state.get(state, 0) / time_in_state.values.sum() for state in states]\n",
    "\n",
    "        # Repeat the first value to close the circular plot\n",
    "        values += values[:1]\n",
    "\n",
    "        # Plot the data for the current configuration\n",
    "        ax.plot(angles, values, label=policy, alpha=0.5)\n",
    "\n",
    "    # Add a legend\n",
    "    ax.legend(loc='upper right')\n",
    "\n",
    "    # Set ytick labels as decimals and limit the scale to 0.5\n",
    "    yticks = np.linspace(0, 0.5, num=6)\n",
    "    ax.set_yticks(yticks)\n",
    "    ax.set_yticklabels(['{:.1f}'.format(y) for y in yticks])\n",
    "\n",
    "    # Set xtick labels\n",
    "    ax.set_xticks(angles[:-1])\n",
    "    ax.set_xticklabels(states)\n",
    "\n",
    "    # Limit the radial axis to 0.5\n",
    "    ax.set_ylim(0, 0.5)\n",
    "\n",
    "    # Add a title\n",
    "    ax.set_title('Percentage of Time Spent in Each State per Reward Type')\n",
    "\n",
    "    plt.show()\n"
   ]
  },
  {
   "cell_type": "code",
   "execution_count": null,
   "metadata": {
    "pycharm": {
     "name": "#%%\n"
    }
   },
   "outputs": [],
   "source": []
  }
 ],
 "metadata": {
  "kernelspec": {
   "display_name": "sumovenv",
   "language": "python",
   "name": "python3"
  },
  "language_info": {
   "codemirror_mode": {
    "name": "ipython",
    "version": 3
   },
   "file_extension": ".py",
   "mimetype": "text/x-python",
   "name": "python",
   "nbconvert_exporter": "python",
   "pygments_lexer": "ipython3",
   "version": "3.9.6"
  },
  "orig_nbformat": 4
 },
 "nbformat": 4,
 "nbformat_minor": 2
}
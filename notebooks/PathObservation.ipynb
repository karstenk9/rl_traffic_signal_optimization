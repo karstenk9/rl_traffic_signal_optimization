{
 "cells": [
  {
   "cell_type": "code",
   "execution_count": 1,
   "metadata": {
    "collapsed": true,
    "pycharm": {
     "name": "#%%\n"
    }
   },
   "outputs": [],
   "source": [
    "import traci"
   ]
  },
  {
   "cell_type": "code",
   "execution_count": 4,
   "outputs": [
    {
     "name": "stdout",
     "output_type": "stream",
     "text": [
      "{'tls_159': 0, 'tls_160': 0, 'tls_161': 0} 4\n",
      "{'tls_159': 1, 'tls_160': 1, 'tls_161': 1} 5\n",
      "{'tls_159': 1, 'tls_160': 1, 'tls_161': 1} 6\n",
      "{'tls_159': 3, 'tls_160': 3, 'tls_161': 2} 8\n",
      "{'tls_159': 4, 'tls_160': 4, 'tls_161': 2} 10\n",
      "{'tls_159': 4, 'tls_160': 4, 'tls_161': 2} 11\n",
      "{'tls_159': 5, 'tls_160': 5, 'tls_161': 2} 13\n",
      "{'tls_159': 5, 'tls_160': 5, 'tls_161': 2} 14\n",
      "{'tls_159': 5, 'tls_160': 5, 'tls_161': 2} 16\n",
      "{'tls_159': 6, 'tls_160': 6, 'tls_161': 2} 18\n"
     ]
    }
   ],
   "source": [
    "tls_ids = ['tls_159', 'tls_160', 'tls_161']\n",
    "\n",
    "try:\n",
    "    traci.close()\n",
    "except:\n",
    "    pass\n",
    "\n",
    "traci.start(['sumo', \"-c\", \"models/20230718_sumo_ma/osm.sumocfg\", \"--time-to-teleport\", \"300\"])\n",
    "\n",
    "tls_controlled_edges = {id : set(traci.lane.getEdgeID(lane) for lane in traci.trafficlight.getControlledLanes(id)) for id in tls_ids}\n",
    "\n",
    "\n",
    "for i in range(10):\n",
    "    traci.simulationStep()\n",
    "    n_veh_to_pass_tls = {id: 0 for id in tls_ids}  # key: tls id; value: number of vehicles that will pass in future / is currently passing the tls\n",
    "    n_veh_active = 0\n",
    "\n",
    "    for veh in traci.vehicle.getIDList():\n",
    "        route_edges = traci.vehicle.getRoute(veh)\n",
    "\n",
    "        # If the route only contains 2 elements (start and end edge), the actual vehicle route is not yet computed\n",
    "        if len(route_edges) >2:\n",
    "            n_veh_active += 1\n",
    "            route_edges_set = set(route_edges)\n",
    "            for tls_id, controlled_edges in tls_controlled_edges.items():\n",
    "                intersect = controlled_edges.intersection(route_edges_set)  # edges which the vehicle will pass (or has passed) that are controlled by the tls\n",
    "\n",
    "                if len(intersect)>=1:   # TODO: check what to do if len>1 (i.e. vehicle will pass the tls multiple times)\n",
    "                    tls_edge = intersect.pop()\n",
    "                    veh_lane = traci.vehicle.getLaneID(veh)\n",
    "                    if veh_lane[0] == \":\":\n",
    "                        veh_lane = traci.lane.getLinks(veh_lane)[0][0]  # if lane belongs to internal edge, select the following lane\n",
    "\n",
    "                    veh_edge = traci.lane.getEdgeID(veh_lane)\n",
    "                    if route_edges.index(veh_edge) <= route_edges.index(tls_edge):  # vehicle did not already pass the tls\n",
    "                        #  TODO: here the closeness of the vehicle to the tls could be an additional requirement,\n",
    "                        #  i.e. the vehicle_edge index not only has to be not larger than the tls_edge index but their difference\n",
    "                        #  also has to be smaller than a certain amount\n",
    "                        n_veh_to_pass_tls[tls_id] += 1\n",
    "\n",
    "    print(n_veh_to_pass_tls, n_veh_active)\n",
    "\n",
    "traci.close()"
   ],
   "metadata": {
    "collapsed": false,
    "pycharm": {
     "name": "#%%\n"
    }
   }
  }
 ],
 "metadata": {
  "kernelspec": {
   "display_name": "Python 3",
   "language": "python",
   "name": "python3"
  },
  "language_info": {
   "codemirror_mode": {
    "name": "ipython",
    "version": 2
   },
   "file_extension": ".py",
   "mimetype": "text/x-python",
   "name": "python",
   "nbconvert_exporter": "python",
   "pygments_lexer": "ipython2",
   "version": "2.7.6"
  }
 },
 "nbformat": 4,
 "nbformat_minor": 0
}
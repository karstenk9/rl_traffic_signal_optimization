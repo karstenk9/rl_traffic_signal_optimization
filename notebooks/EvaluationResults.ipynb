{
 "cells": [
  {
   "cell_type": "code",
   "execution_count": 10,
   "outputs": [],
   "source": [
    "import pandas as pd\n",
    "import seaborn as sns\n",
    "import matplotlib.pyplot as plt"
   ],
   "metadata": {
    "collapsed": false,
    "pycharm": {
     "name": "#%%\n"
    }
   }
  },
  {
   "cell_type": "code",
   "execution_count": 16,
   "outputs": [
    {
     "name": "stdout",
     "output_type": "stream",
     "text": [
      "diff-waiting-time200000\n",
      "Avg travel time for all vehicles (475): 754.8315789473684 seconds)\n",
      "Avg travel time for controlled vehicles (101): 988.7623762376238 seconds)\n",
      "Avg waiting time for controlled lanes: 445.77555555555557 seconds\n"
     ]
    }
   ],
   "source": [
    "# travel time averaged over all vehicles that had departure and arrival during evaluation period and were not teleported\n",
    "# and additionally only vehicles that drove past the tls (i.e. controlled vehicle)\n",
    "# travel time: total number of seconds from departure to arrival\n",
    "# (vehicle waiting time not used anymore because it is just the waiting time in the last 100 seconds)\n",
    "\n",
    "def compute_travel_time(vehicle_info):\n",
    "    vehicle_info = vehicle_info[~vehicle_info[\"is_teleported_vehicle\"]]  # ignore teleported\n",
    "    vehicle_info = vehicle_info.dropna(subset=[\"depart_time\", \"arrive_time\"])  # ignore trips not started/ended during the eval period\n",
    "    vehicle_info[\"arrive_time\"] = vehicle_info[\"arrive_time\"].astype(int)\n",
    "    vehicle_info[\"depart_time\"] = vehicle_info[\"depart_time\"].astype(int)\n",
    "    vehicle_info[\"travel_time\"] = vehicle_info[\"arrive_time\"] - vehicle_info[\"depart_time\"]\n",
    "\n",
    "    n_veh = len(vehicle_info)\n",
    "    avg_travel_time = vehicle_info[\"travel_time\"].mean()\n",
    "    return n_veh, avg_travel_time\n",
    "\n",
    "name = \"diff-waiting-time200000\"\n",
    "vehicle_info = pd.read_csv(f\"outputs/{name}/vehicle-times.csv\")\n",
    "n_veh, avg_travel_time = compute_travel_time(vehicle_info)\n",
    "print(name)\n",
    "print(f\"Avg travel time for all vehicles ({n_veh}): {avg_travel_time} seconds)\")\n",
    "\n",
    "n_veh, avg_travel_time = compute_travel_time(vehicle_info[vehicle_info[\"is_controlled_vehicle\"]])\n",
    "print(f\"Avg travel time for controlled vehicles ({n_veh}): {avg_travel_time} seconds)\")\n",
    "\n",
    "\n",
    "# lane waiting time averaged over all timesteps\n",
    "# lane waiting time: sum of the waiting times on the lanes that are controlled by the tls\n",
    "simulation_info = pd.read_csv(f\"outputs/{name}/simulation-states.csv\") # each row is one timestep during simulation\n",
    "avg_lane_waiting_time = simulation_info['localWaitingTime'].mean()\n",
    "print(f\"Avg waiting time for controlled lanes: {avg_lane_waiting_time} seconds\")"
   ],
   "metadata": {
    "collapsed": false,
    "pycharm": {
     "name": "#%%\n"
    }
   }
  },
  {
   "cell_type": "code",
   "execution_count": 17,
   "outputs": [
    {
     "name": "stdout",
     "output_type": "stream",
     "text": [
      "baseline\n",
      "Avg travel time for all vehicles (10380): 764.8881502890173 seconds)\n",
      "Avg travel time for controlled vehicles (1638): 1096.6538461538462 seconds)\n",
      "Avg waiting time for controlled lanes: 1554.1444444444444 seconds\n"
     ]
    }
   ],
   "source": [
    "name = \"baseline\"\n",
    "vehicle_info = pd.read_csv(f\"outputs/{name}/vehicle-times.csv\")\n",
    "n_veh, avg_travel_time = compute_travel_time(vehicle_info)\n",
    "print(name)\n",
    "print(f\"Avg travel time for all vehicles ({n_veh}): {avg_travel_time} seconds)\")\n",
    "\n",
    "n_veh, avg_travel_time = compute_travel_time(vehicle_info[vehicle_info[\"is_controlled_vehicle\"]])\n",
    "print(f\"Avg travel time for controlled vehicles ({n_veh}): {avg_travel_time} seconds)\")\n",
    "\n",
    "\n",
    "# lane waiting time averaged over all timesteps\n",
    "# lane waiting time: sum of the waiting times on the lanes that are controlled by the tls\n",
    "simulation_info = pd.read_csv(f\"outputs/{name}/simulation-states.csv\") # each row is one timestep during simulation\n",
    "avg_lane_waiting_time = simulation_info['localWaitingTime'].mean()\n",
    "print(f\"Avg waiting time for controlled lanes: {avg_lane_waiting_time} seconds\")"
   ],
   "metadata": {
    "collapsed": false,
    "pycharm": {
     "name": "#%%\n"
    }
   }
  }
 ],
 "metadata": {
  "kernelspec": {
   "display_name": "Python 3",
   "language": "python",
   "name": "python3"
  },
  "language_info": {
   "codemirror_mode": {
    "name": "ipython",
    "version": 2
   },
   "file_extension": ".py",
   "mimetype": "text/x-python",
   "name": "python",
   "nbconvert_exporter": "python",
   "pygments_lexer": "ipython2",
   "version": "2.7.6"
  }
 },
 "nbformat": 4,
 "nbformat_minor": 0
}
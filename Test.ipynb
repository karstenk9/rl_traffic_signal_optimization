{
 "cells": [
  {
   "cell_type": "code",
   "execution_count": 1,
   "metadata": {
    "collapsed": true,
    "pycharm": {
     "name": "#%%\n"
    }
   },
   "outputs": [],
   "source": [
    "# import traci\n",
    "#\n",
    "# SUMO_BINARY = r\"C:\\Program Files (x86)\\Eclipse\\Sumo\\bin\\sumo-gui\"\n",
    "# CONFIG_FILE = r\"C:\\Program Files (x86)\\Eclipse\\Sumo\\doc\\tutorial\\quickstart\\data\\quickstart.sumocfg\"\n",
    "# # CONFIG_FILE = r\"C:\\Repos\\rl_traffic_signal_optimization\\models\\20230718_sumo_ma\\osm.sumocfg\""
   ]
  },
  {
   "cell_type": "code",
   "execution_count": 3,
   "outputs": [],
   "source": [
    "# sumo_cmd = [SUMO_BINARY, \"-c\", CONFIG_FILE, \"--start\", \"--quit-on-end\", \"--tripinfo-output\", tripinfo_file_name]\n",
    "#\n",
    "# traci.start(sumo_cmd)\n",
    "#\n",
    "# while traci.simulation.getMinExpectedNumber() > 0:\n",
    "#     traci.simulationStep()"
   ],
   "metadata": {
    "collapsed": false,
    "pycharm": {
     "name": "#%%\n"
    }
   }
  },
  {
   "cell_type": "code",
   "execution_count": 4,
   "outputs": [],
   "source": [
    "# traci.close()"
   ],
   "metadata": {
    "collapsed": false,
    "pycharm": {
     "name": "#%%\n"
    }
   }
  },
  {
   "cell_type": "code",
   "execution_count": 80,
   "outputs": [
    {
     "data": {
      "text/plain": "'20231129220849'"
     },
     "execution_count": 80,
     "metadata": {},
     "output_type": "execute_result"
    }
   ],
   "source": [
    "from datetime import datetime\n",
    "str(datetime.now().strftime(\"%Y%m%d%H%M%S\"))"
   ],
   "metadata": {
    "collapsed": false,
    "pycharm": {
     "name": "#%%\n"
    }
   }
  },
  {
   "cell_type": "code",
   "execution_count": 46,
   "outputs": [],
   "source": [
    "NAME = \"diff-waiting-time100\"\n",
    "\n",
    "tripinfo_file = \"tripinfo.xml\"\n",
    "# tripinfo_file = NAME + \"-tripinfo.xml\"\n",
    "vehicle_file = NAME + \"-controlled-vehicles.csv\""
   ],
   "metadata": {
    "collapsed": false,
    "pycharm": {
     "name": "#%%\n"
    }
   }
  },
  {
   "cell_type": "code",
   "execution_count": 70,
   "outputs": [],
   "source": [
    "import pandas as pd\n",
    "\n",
    "# vehicles = pd.read_csv(vehicle_file)\n",
    "vehicles = pd.DataFrame([\"veh30\", \"veh33\", \"veh3\"], columns=[\"controlled_vehicles\"])"
   ],
   "metadata": {
    "collapsed": false,
    "pycharm": {
     "name": "#%%\n"
    }
   }
  },
  {
   "cell_type": "code",
   "execution_count": 71,
   "outputs": [],
   "source": [
    "from lxml import etree\n",
    "\n",
    "root = etree.parse(tripinfo_file).getroot()\n",
    "data = {\"vehicle\": [], \"travel_time\": [], \"waiting_time\": []}\n",
    "\n",
    "for t in root.iter(\"tripinfo\"):\n",
    "    data[\"vehicle\"].append(t.get(\"id\"))\n",
    "    data[\"travel_time\"].append(int(float((t.get(\"duration\")))))\n",
    "    data[\"waiting_time\"].append(int(float(t.get(\"waitingTime\"))))\n",
    "\n",
    "tripinfo = pd.DataFrame(data)"
   ],
   "metadata": {
    "collapsed": false,
    "pycharm": {
     "name": "#%%\n"
    }
   }
  },
  {
   "cell_type": "code",
   "execution_count": 75,
   "outputs": [],
   "source": [
    "all_vehicles = tripinfo.merge(vehicles, left_on=\"vehicle\", right_on=\"controlled_vehicles\", how=\"left\")\n",
    "all_vehicles[\"controlled_vehicles\"] = ~all_vehicles[\"controlled_vehicles\"].isna()\n",
    "only_controlled = all_vehicles[all_vehicles[\"controlled_vehicles\"]].drop(\"controlled_vehicles\", axis=1)\n",
    "all_vehicles = all_vehicles.drop(\"controlled_vehicles\", axis=1)"
   ],
   "metadata": {
    "collapsed": false,
    "pycharm": {
     "name": "#%%\n"
    }
   }
  },
  {
   "cell_type": "code",
   "execution_count": 61,
   "outputs": [],
   "source": [
    "import seaborn as sns\n",
    "\n",
    "# sns.histplot(all_vehicles)"
   ],
   "metadata": {
    "collapsed": false,
    "pycharm": {
     "name": "#%%\n"
    }
   }
  },
  {
   "cell_type": "code",
   "execution_count": 77,
   "outputs": [
    {
     "data": {
      "text/plain": "<Axes: ylabel='Count'>"
     },
     "execution_count": 77,
     "metadata": {},
     "output_type": "execute_result"
    },
    {
     "data": {
      "text/plain": "<Figure size 640x480 with 1 Axes>",
      "image/png": "[encoded data removed]"
     },
     "metadata": {},
     "output_type": "display_data"
    }
   ],
   "source": [
    "sns.histplot(only_controlled)"
   ],
   "metadata": {
    "collapsed": false,
    "pycharm": {
     "name": "#%%\n"
    }
   }
  },
  {
   "cell_type": "code",
   "execution_count": 27,
   "outputs": [],
   "source": [],
   "metadata": {
    "collapsed": false,
    "pycharm": {
     "name": "#%%\n"
    }
   }
  },
  {
   "cell_type": "code",
   "execution_count": 38,
   "outputs": [],
   "source": [],
   "metadata": {
    "collapsed": false,
    "pycharm": {
     "name": "#%%\n"
    }
   }
  },
  {
   "cell_type": "code",
   "execution_count": 53,
   "outputs": [
    {
     "name": "stdout",
     "output_type": "stream",
     "text": [
      "<class 'pandas.core.frame.DataFrame'>\n",
      "RangeIndex: 13823 entries, 0 to 13822\n",
      "Data columns (total 6 columns):\n",
      " #   Column                 Non-Null Count  Dtype  \n",
      "---  ------                 --------------  -----  \n",
      " 0   vehicle_id             13823 non-null  object \n",
      " 1   depart_time            2707 non-null   float64\n",
      " 2   arrive_time            2088 non-null   float64\n",
      " 3   waiting_time           13822 non-null  float64\n",
      " 4   is_controlled_vehicle  13823 non-null  bool   \n",
      " 5   is_teleported_vehicle  13823 non-null  bool   \n",
      "dtypes: bool(2), float64(3), object(1)\n",
      "memory usage: 459.1+ KB\n"
     ]
    }
   ],
   "source": [
    "vehicle_info = pd.read_csv(\"src/experiments/diff-waiting-time100-vehicle-times.csv\")\n",
    "vehicle_info.info()"
   ],
   "metadata": {
    "collapsed": false,
    "pycharm": {
     "name": "#%%\n"
    }
   }
  },
  {
   "cell_type": "code",
   "execution_count": 54,
   "outputs": [
    {
     "data": {
      "text/plain": "      vehicle_id  depart_time  arrive_time  waiting_time  \\\n0       bike3016      25205.0          NaN           0.0   \n1       veh14404      25205.0          NaN         195.0   \n2       veh14409      25210.0          NaN         677.0   \n3      truck3603      25210.0          NaN          32.0   \n4       veh14414      25215.0      25440.0          74.0   \n...          ...          ...          ...           ...   \n13818  truck6597          NaN          NaN           0.0   \n13819   veh23390          NaN          NaN           0.0   \n13820   veh23391          NaN          NaN           0.0   \n13821   veh23392          NaN          NaN           0.0   \n13822   veh23393          NaN          NaN           0.0   \n\n       is_controlled_vehicle  is_teleported_vehicle  \n0                      False                  False  \n1                       True                  False  \n2                       True                  False  \n3                      False                  False  \n4                      False                  False  \n...                      ...                    ...  \n13818                  False                  False  \n13819                  False                  False  \n13820                  False                  False  \n13821                  False                  False  \n13822                  False                  False  \n\n[13823 rows x 6 columns]",
      "text/html": "<div>\n<style scoped>\n    .dataframe tbody tr th:only-of-type {\n        vertical-align: middle;\n    }\n\n    .dataframe tbody tr th {\n        vertical-align: top;\n    }\n\n    .dataframe thead th {\n        text-align: right;\n    }\n</style>\n<table border=\"1\" class=\"dataframe\">\n  <thead>\n    <tr style=\"text-align: right;\">\n      <th></th>\n      <th>vehicle_id</th>\n      <th>depart_time</th>\n      <th>arrive_time</th>\n      <th>waiting_time</th>\n      <th>is_controlled_vehicle</th>\n      <th>is_teleported_vehicle</th>\n    </tr>\n  </thead>\n  <tbody>\n    <tr>\n      <th>0</th>\n      <td>bike3016</td>\n      <td>25205.0</td>\n      <td>NaN</td>\n      <td>0.0</td>\n      <td>False</td>\n      <td>False</td>\n    </tr>\n    <tr>\n      <th>1</th>\n      <td>veh14404</td>\n      <td>25205.0</td>\n      <td>NaN</td>\n      <td>195.0</td>\n      <td>True</td>\n      <td>False</td>\n    </tr>\n    <tr>\n      <th>2</th>\n      <td>veh14409</td>\n      <td>25210.0</td>\n      <td>NaN</td>\n      <td>677.0</td>\n      <td>True</td>\n      <td>False</td>\n    </tr>\n    <tr>\n      <th>3</th>\n      <td>truck3603</td>\n      <td>25210.0</td>\n      <td>NaN</td>\n      <td>32.0</td>\n      <td>False</td>\n      <td>False</td>\n    </tr>\n    <tr>\n      <th>4</th>\n      <td>veh14414</td>\n      <td>25215.0</td>\n      <td>25440.0</td>\n      <td>74.0</td>\n      <td>False</td>\n      <td>False</td>\n    </tr>\n    <tr>\n      <th>...</th>\n      <td>...</td>\n      <td>...</td>\n      <td>...</td>\n      <td>...</td>\n      <td>...</td>\n      <td>...</td>\n    </tr>\n    <tr>\n      <th>13818</th>\n      <td>truck6597</td>\n      <td>NaN</td>\n      <td>NaN</td>\n      <td>0.0</td>\n      <td>False</td>\n      <td>False</td>\n    </tr>\n    <tr>\n      <th>13819</th>\n      <td>veh23390</td>\n      <td>NaN</td>\n      <td>NaN</td>\n      <td>0.0</td>\n      <td>False</td>\n      <td>False</td>\n    </tr>\n    <tr>\n      <th>13820</th>\n      <td>veh23391</td>\n      <td>NaN</td>\n      <td>NaN</td>\n      <td>0.0</td>\n      <td>False</td>\n      <td>False</td>\n    </tr>\n    <tr>\n      <th>13821</th>\n      <td>veh23392</td>\n      <td>NaN</td>\n      <td>NaN</td>\n      <td>0.0</td>\n      <td>False</td>\n      <td>False</td>\n    </tr>\n    <tr>\n      <th>13822</th>\n      <td>veh23393</td>\n      <td>NaN</td>\n      <td>NaN</td>\n      <td>0.0</td>\n      <td>False</td>\n      <td>False</td>\n    </tr>\n  </tbody>\n</table>\n<p>13823 rows × 6 columns</p>\n</div>"
     },
     "execution_count": 54,
     "metadata": {},
     "output_type": "execute_result"
    }
   ],
   "source": [
    "vehicle_info"
   ],
   "metadata": {
    "collapsed": false,
    "pycharm": {
     "name": "#%%\n"
    }
   }
  },
  {
   "cell_type": "code",
   "execution_count": 56,
   "outputs": [
    {
     "data": {
      "text/plain": "455"
     },
     "execution_count": 56,
     "metadata": {},
     "output_type": "execute_result"
    }
   ],
   "source": [
    "len(vehicle_info[vehicle_info[\"is_teleported_vehicle\"]])"
   ],
   "metadata": {
    "collapsed": false,
    "pycharm": {
     "name": "#%%\n"
    }
   }
  },
  {
   "cell_type": "code",
   "execution_count": 57,
   "outputs": [
    {
     "data": {
      "text/plain": "28"
     },
     "execution_count": 57,
     "metadata": {},
     "output_type": "execute_result"
    }
   ],
   "source": [
    "complete_trips = vehicle_info.dropna(subset=[\"depart_time\", \"arrive_time\"])\n",
    "len(complete_trips[complete_trips[\"is_controlled_vehicle\"]])"
   ],
   "metadata": {
    "collapsed": false,
    "pycharm": {
     "name": "#%%\n"
    }
   }
  },
  {
   "cell_type": "code",
   "execution_count": 67,
   "outputs": [
    {
     "name": "stdout",
     "output_type": "stream",
     "text": [
      "Average waiting time per controlled lane: 6085.407222222222 seconds\n"
     ]
    },
    {
     "data": {
      "text/plain": "<Figure size 640x480 with 1 Axes>",
      "image/png": "[encoded data removed]"
     },
     "metadata": {},
     "output_type": "display_data"
    }
   ],
   "source": [
    "df = pd.read_csv(\"src/experiments/diff-waiting-time100-eval-df.csv\") # each row is one timestep during simulation\n",
    "sns.histplot(df, x=\"localWaitingTime\")\n",
    "print(\"Average waiting time per controlled lane: \" + str(df['localWaitingTime'].mean()) + \" seconds\")"
   ],
   "metadata": {
    "collapsed": false,
    "pycharm": {
     "name": "#%%\n"
    }
   }
  }
 ],
 "metadata": {
  "kernelspec": {
   "display_name": "Python 3",
   "language": "python",
   "name": "python3"
  },
  "language_info": {
   "codemirror_mode": {
    "name": "ipython",
    "version": 2
   },
   "file_extension": ".py",
   "mimetype": "text/x-python",
   "name": "python",
   "nbconvert_exporter": "python",
   "pygments_lexer": "ipython2",
   "version": "2.7.6"
  }
 },
 "nbformat": 4,
 "nbformat_minor": 0
}